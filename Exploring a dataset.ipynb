{
 "cells": [
  {
   "cell_type": "markdown",
   "metadata": {},
   "source": [
    "# Overview\n",
    "We’re going to explore a dataset describing the players who played in the 2012-13 European football (soccer) professional leagues. Data about the players’ ages, heights, weights, position, skintone rating, and more were included. Focus on exploring the data to find actionable insights, with an overarching goal of answering the following question: “Are soccer referees more likely to give red cards to dark skin toned players than light skin toned players?”"
   ]
  },
  {
   "cell_type": "markdown",
   "metadata": {},
   "source": [
    "## Load Data\n",
    "The csv file included with the material includes ~150k player/referee pairs (or 'dyads' as the documentation refers to them).  Memory usage is moderate, at just over 30 MB so we won't worry too much about memory management at present.  "
   ]
  },
  {
   "cell_type": "code",
   "execution_count": 1,
   "metadata": {},
   "outputs": [],
   "source": [
    "import pandas as pd\n",
    "import numpy as np\n",
    "import matplotlib.pyplot as plt\n",
    "import seaborn as sns"
   ]
  },
  {
   "cell_type": "markdown",
   "metadata": {},
   "source": [
    "## Analysis overview and general tips\n",
    "- Before plotting/joining/doing something, have a question or hypothesis that you want to investigate\n",
    "- Next it is a good idea to get a general sense for what the data looks like\n",
    "- Draw a plot of what you want to see on paper to sketch the idea\n",
    "- Write it down, then make the plan on how to get there\n",
    "- How do you know you aren't fooling yourself\n",
    "- What else can I check if this is actually true?\n",
    "- What evidence could there be that it's wrong?\n"
   ]
  },
  {
   "cell_type": "markdown",
   "metadata": {},
   "source": [
    "## 1) What does the data look like?"
   ]
  },
  {
   "cell_type": "code",
   "execution_count": 2,
   "metadata": {},
   "outputs": [
    {
     "name": "stdout",
     "output_type": "stream",
     "text": [
      "(146028, 28)\n",
      "Index(['playerShort', 'player', 'club', 'leagueCountry', 'birthday', 'height',\n",
      "       'weight', 'position', 'games', 'victories', 'ties', 'defeats', 'goals',\n",
      "       'yellowCards', 'yellowReds', 'redCards', 'photoID', 'rater1', 'rater2',\n",
      "       'refNum', 'refCountry', 'Alpha_3', 'meanIAT', 'nIAT', 'seIAT',\n",
      "       'meanExp', 'nExp', 'seExp'],\n",
      "      dtype='object')\n"
     ]
    }
   ],
   "source": [
    "df = pd.read_csv('redcard.csv')\n",
    "print(df.shape)\n",
    "print(df.columns)\n",
    "#data_frame.info()"
   ]
  },
  {
   "cell_type": "code",
   "execution_count": 3,
   "metadata": {},
   "outputs": [
    {
     "data": {
      "text/plain": [
       "playerShort       object\n",
       "player            object\n",
       "club              object\n",
       "leagueCountry     object\n",
       "birthday          object\n",
       "height           float64\n",
       "weight           float64\n",
       "position          object\n",
       "games              int64\n",
       "victories          int64\n",
       "ties               int64\n",
       "defeats            int64\n",
       "goals              int64\n",
       "yellowCards        int64\n",
       "yellowReds         int64\n",
       "redCards           int64\n",
       "photoID           object\n",
       "rater1           float64\n",
       "rater2           float64\n",
       "refNum             int64\n",
       "refCountry         int64\n",
       "Alpha_3           object\n",
       "meanIAT          float64\n",
       "nIAT             float64\n",
       "seIAT            float64\n",
       "meanExp          float64\n",
       "nExp             float64\n",
       "seExp            float64\n",
       "dtype: object"
      ]
     },
     "execution_count": 3,
     "metadata": {},
     "output_type": "execute_result"
    }
   ],
   "source": [
    "df.dtypes"
   ]
  },
  {
   "cell_type": "code",
   "execution_count": 4,
   "metadata": {},
   "outputs": [
    {
     "data": {
      "text/html": [
       "<div>\n",
       "<style scoped>\n",
       "    .dataframe tbody tr th:only-of-type {\n",
       "        vertical-align: middle;\n",
       "    }\n",
       "\n",
       "    .dataframe tbody tr th {\n",
       "        vertical-align: top;\n",
       "    }\n",
       "\n",
       "    .dataframe thead th {\n",
       "        text-align: right;\n",
       "    }\n",
       "</style>\n",
       "<table border=\"1\" class=\"dataframe\">\n",
       "  <thead>\n",
       "    <tr style=\"text-align: right;\">\n",
       "      <th></th>\n",
       "      <th>count</th>\n",
       "      <th>mean</th>\n",
       "      <th>std</th>\n",
       "      <th>min</th>\n",
       "      <th>25%</th>\n",
       "      <th>50%</th>\n",
       "      <th>75%</th>\n",
       "      <th>max</th>\n",
       "    </tr>\n",
       "  </thead>\n",
       "  <tbody>\n",
       "    <tr>\n",
       "      <th>height</th>\n",
       "      <td>145765.0</td>\n",
       "      <td>181.935938</td>\n",
       "      <td>6.738726</td>\n",
       "      <td>1.610000e+02</td>\n",
       "      <td>177.000000</td>\n",
       "      <td>182.000000</td>\n",
       "      <td>187.000000</td>\n",
       "      <td>2.030000e+02</td>\n",
       "    </tr>\n",
       "    <tr>\n",
       "      <th>weight</th>\n",
       "      <td>143785.0</td>\n",
       "      <td>76.075662</td>\n",
       "      <td>7.140906</td>\n",
       "      <td>5.400000e+01</td>\n",
       "      <td>71.000000</td>\n",
       "      <td>76.000000</td>\n",
       "      <td>81.000000</td>\n",
       "      <td>1.000000e+02</td>\n",
       "    </tr>\n",
       "    <tr>\n",
       "      <th>games</th>\n",
       "      <td>146028.0</td>\n",
       "      <td>2.921166</td>\n",
       "      <td>3.413633</td>\n",
       "      <td>1.000000e+00</td>\n",
       "      <td>1.000000</td>\n",
       "      <td>2.000000</td>\n",
       "      <td>3.000000</td>\n",
       "      <td>4.700000e+01</td>\n",
       "    </tr>\n",
       "    <tr>\n",
       "      <th>victories</th>\n",
       "      <td>146028.0</td>\n",
       "      <td>1.278344</td>\n",
       "      <td>1.790725</td>\n",
       "      <td>0.000000e+00</td>\n",
       "      <td>0.000000</td>\n",
       "      <td>1.000000</td>\n",
       "      <td>2.000000</td>\n",
       "      <td>2.900000e+01</td>\n",
       "    </tr>\n",
       "    <tr>\n",
       "      <th>ties</th>\n",
       "      <td>146028.0</td>\n",
       "      <td>0.708241</td>\n",
       "      <td>1.116793</td>\n",
       "      <td>0.000000e+00</td>\n",
       "      <td>0.000000</td>\n",
       "      <td>0.000000</td>\n",
       "      <td>1.000000</td>\n",
       "      <td>1.400000e+01</td>\n",
       "    </tr>\n",
       "    <tr>\n",
       "      <th>defeats</th>\n",
       "      <td>146028.0</td>\n",
       "      <td>0.934581</td>\n",
       "      <td>1.383059</td>\n",
       "      <td>0.000000e+00</td>\n",
       "      <td>0.000000</td>\n",
       "      <td>1.000000</td>\n",
       "      <td>1.000000</td>\n",
       "      <td>1.800000e+01</td>\n",
       "    </tr>\n",
       "    <tr>\n",
       "      <th>goals</th>\n",
       "      <td>146028.0</td>\n",
       "      <td>0.338058</td>\n",
       "      <td>0.906481</td>\n",
       "      <td>0.000000e+00</td>\n",
       "      <td>0.000000</td>\n",
       "      <td>0.000000</td>\n",
       "      <td>0.000000</td>\n",
       "      <td>2.300000e+01</td>\n",
       "    </tr>\n",
       "    <tr>\n",
       "      <th>yellowCards</th>\n",
       "      <td>146028.0</td>\n",
       "      <td>0.385364</td>\n",
       "      <td>0.795333</td>\n",
       "      <td>0.000000e+00</td>\n",
       "      <td>0.000000</td>\n",
       "      <td>0.000000</td>\n",
       "      <td>1.000000</td>\n",
       "      <td>1.400000e+01</td>\n",
       "    </tr>\n",
       "    <tr>\n",
       "      <th>yellowReds</th>\n",
       "      <td>146028.0</td>\n",
       "      <td>0.011381</td>\n",
       "      <td>0.107931</td>\n",
       "      <td>0.000000e+00</td>\n",
       "      <td>0.000000</td>\n",
       "      <td>0.000000</td>\n",
       "      <td>0.000000</td>\n",
       "      <td>3.000000e+00</td>\n",
       "    </tr>\n",
       "    <tr>\n",
       "      <th>redCards</th>\n",
       "      <td>146028.0</td>\n",
       "      <td>0.012559</td>\n",
       "      <td>0.112889</td>\n",
       "      <td>0.000000e+00</td>\n",
       "      <td>0.000000</td>\n",
       "      <td>0.000000</td>\n",
       "      <td>0.000000</td>\n",
       "      <td>2.000000e+00</td>\n",
       "    </tr>\n",
       "    <tr>\n",
       "      <th>rater1</th>\n",
       "      <td>124621.0</td>\n",
       "      <td>0.264255</td>\n",
       "      <td>0.295382</td>\n",
       "      <td>0.000000e+00</td>\n",
       "      <td>0.000000</td>\n",
       "      <td>0.250000</td>\n",
       "      <td>0.250000</td>\n",
       "      <td>1.000000e+00</td>\n",
       "    </tr>\n",
       "    <tr>\n",
       "      <th>rater2</th>\n",
       "      <td>124621.0</td>\n",
       "      <td>0.302862</td>\n",
       "      <td>0.293020</td>\n",
       "      <td>0.000000e+00</td>\n",
       "      <td>0.000000</td>\n",
       "      <td>0.250000</td>\n",
       "      <td>0.500000</td>\n",
       "      <td>1.000000e+00</td>\n",
       "    </tr>\n",
       "    <tr>\n",
       "      <th>refNum</th>\n",
       "      <td>146028.0</td>\n",
       "      <td>1534.827444</td>\n",
       "      <td>918.736625</td>\n",
       "      <td>1.000000e+00</td>\n",
       "      <td>641.000000</td>\n",
       "      <td>1604.000000</td>\n",
       "      <td>2345.000000</td>\n",
       "      <td>3.147000e+03</td>\n",
       "    </tr>\n",
       "    <tr>\n",
       "      <th>refCountry</th>\n",
       "      <td>146028.0</td>\n",
       "      <td>29.642842</td>\n",
       "      <td>27.496189</td>\n",
       "      <td>1.000000e+00</td>\n",
       "      <td>7.000000</td>\n",
       "      <td>21.000000</td>\n",
       "      <td>44.000000</td>\n",
       "      <td>1.610000e+02</td>\n",
       "    </tr>\n",
       "    <tr>\n",
       "      <th>meanIAT</th>\n",
       "      <td>145865.0</td>\n",
       "      <td>0.346276</td>\n",
       "      <td>0.032246</td>\n",
       "      <td>-4.725423e-02</td>\n",
       "      <td>0.334684</td>\n",
       "      <td>0.336628</td>\n",
       "      <td>0.369894</td>\n",
       "      <td>5.737933e-01</td>\n",
       "    </tr>\n",
       "    <tr>\n",
       "      <th>nIAT</th>\n",
       "      <td>145865.0</td>\n",
       "      <td>19697.411216</td>\n",
       "      <td>127126.197143</td>\n",
       "      <td>2.000000e+00</td>\n",
       "      <td>1785.000000</td>\n",
       "      <td>2882.000000</td>\n",
       "      <td>7749.000000</td>\n",
       "      <td>1.975803e+06</td>\n",
       "    </tr>\n",
       "    <tr>\n",
       "      <th>seIAT</th>\n",
       "      <td>145865.0</td>\n",
       "      <td>0.000631</td>\n",
       "      <td>0.004736</td>\n",
       "      <td>2.235373e-07</td>\n",
       "      <td>0.000055</td>\n",
       "      <td>0.000151</td>\n",
       "      <td>0.000229</td>\n",
       "      <td>2.862871e-01</td>\n",
       "    </tr>\n",
       "    <tr>\n",
       "      <th>meanExp</th>\n",
       "      <td>145865.0</td>\n",
       "      <td>0.452026</td>\n",
       "      <td>0.217469</td>\n",
       "      <td>-1.375000e+00</td>\n",
       "      <td>0.336101</td>\n",
       "      <td>0.356446</td>\n",
       "      <td>0.588297</td>\n",
       "      <td>1.800000e+00</td>\n",
       "    </tr>\n",
       "    <tr>\n",
       "      <th>nExp</th>\n",
       "      <td>145865.0</td>\n",
       "      <td>20440.233860</td>\n",
       "      <td>130615.745103</td>\n",
       "      <td>2.000000e+00</td>\n",
       "      <td>1897.000000</td>\n",
       "      <td>3011.000000</td>\n",
       "      <td>7974.000000</td>\n",
       "      <td>2.029548e+06</td>\n",
       "    </tr>\n",
       "    <tr>\n",
       "      <th>seExp</th>\n",
       "      <td>145865.0</td>\n",
       "      <td>0.002994</td>\n",
       "      <td>0.019723</td>\n",
       "      <td>1.043334e-06</td>\n",
       "      <td>0.000225</td>\n",
       "      <td>0.000586</td>\n",
       "      <td>0.001002</td>\n",
       "      <td>1.060660e+00</td>\n",
       "    </tr>\n",
       "  </tbody>\n",
       "</table>\n",
       "</div>"
      ],
      "text/plain": [
       "                count          mean            std           min          25%  \\\n",
       "height       145765.0    181.935938       6.738726  1.610000e+02   177.000000   \n",
       "weight       143785.0     76.075662       7.140906  5.400000e+01    71.000000   \n",
       "games        146028.0      2.921166       3.413633  1.000000e+00     1.000000   \n",
       "victories    146028.0      1.278344       1.790725  0.000000e+00     0.000000   \n",
       "ties         146028.0      0.708241       1.116793  0.000000e+00     0.000000   \n",
       "defeats      146028.0      0.934581       1.383059  0.000000e+00     0.000000   \n",
       "goals        146028.0      0.338058       0.906481  0.000000e+00     0.000000   \n",
       "yellowCards  146028.0      0.385364       0.795333  0.000000e+00     0.000000   \n",
       "yellowReds   146028.0      0.011381       0.107931  0.000000e+00     0.000000   \n",
       "redCards     146028.0      0.012559       0.112889  0.000000e+00     0.000000   \n",
       "rater1       124621.0      0.264255       0.295382  0.000000e+00     0.000000   \n",
       "rater2       124621.0      0.302862       0.293020  0.000000e+00     0.000000   \n",
       "refNum       146028.0   1534.827444     918.736625  1.000000e+00   641.000000   \n",
       "refCountry   146028.0     29.642842      27.496189  1.000000e+00     7.000000   \n",
       "meanIAT      145865.0      0.346276       0.032246 -4.725423e-02     0.334684   \n",
       "nIAT         145865.0  19697.411216  127126.197143  2.000000e+00  1785.000000   \n",
       "seIAT        145865.0      0.000631       0.004736  2.235373e-07     0.000055   \n",
       "meanExp      145865.0      0.452026       0.217469 -1.375000e+00     0.336101   \n",
       "nExp         145865.0  20440.233860  130615.745103  2.000000e+00  1897.000000   \n",
       "seExp        145865.0      0.002994       0.019723  1.043334e-06     0.000225   \n",
       "\n",
       "                     50%          75%           max  \n",
       "height        182.000000   187.000000  2.030000e+02  \n",
       "weight         76.000000    81.000000  1.000000e+02  \n",
       "games           2.000000     3.000000  4.700000e+01  \n",
       "victories       1.000000     2.000000  2.900000e+01  \n",
       "ties            0.000000     1.000000  1.400000e+01  \n",
       "defeats         1.000000     1.000000  1.800000e+01  \n",
       "goals           0.000000     0.000000  2.300000e+01  \n",
       "yellowCards     0.000000     1.000000  1.400000e+01  \n",
       "yellowReds      0.000000     0.000000  3.000000e+00  \n",
       "redCards        0.000000     0.000000  2.000000e+00  \n",
       "rater1          0.250000     0.250000  1.000000e+00  \n",
       "rater2          0.250000     0.500000  1.000000e+00  \n",
       "refNum       1604.000000  2345.000000  3.147000e+03  \n",
       "refCountry     21.000000    44.000000  1.610000e+02  \n",
       "meanIAT         0.336628     0.369894  5.737933e-01  \n",
       "nIAT         2882.000000  7749.000000  1.975803e+06  \n",
       "seIAT           0.000151     0.000229  2.862871e-01  \n",
       "meanExp         0.356446     0.588297  1.800000e+00  \n",
       "nExp         3011.000000  7974.000000  2.029548e+06  \n",
       "seExp           0.000586     0.001002  1.060660e+00  "
      ]
     },
     "execution_count": 4,
     "metadata": {},
     "output_type": "execute_result"
    }
   ],
   "source": [
    "df.describe().T"
   ]
  },
  {
   "cell_type": "markdown",
   "metadata": {},
   "source": [
    "## Understand how the data's organized\n",
    "The dataset is a single file with every interaction between referee and player as a single row. In other words: Referee A refereed Player B in, say, 10 games, and gave 2 redcards during those 10 games. Then there would be a unique row in the dataset that said:\n",
    "\n",
    "Referee A, Player B, 2 redcards, ... \n",
    "\n",
    "This has several implications that make this first step to understanding and dealing with this data a bit tricky. First, is that the information about Player B is repeated each time -- meaning:\n",
    "\n",
    "### If we did a simple average of some metric of we would likely get a misleading result by double counting.\n",
    "\n",
    "For example, asking \"what is the average weight of the players?\""
   ]
  },
  {
   "cell_type": "code",
   "execution_count": 5,
   "metadata": {},
   "outputs": [
    {
     "data": {
      "text/plain": [
       "181.93593798236887"
      ]
     },
     "execution_count": 5,
     "metadata": {},
     "output_type": "execute_result"
    }
   ],
   "source": [
    "df.height.mean()"
   ]
  },
  {
   "cell_type": "code",
   "execution_count": 6,
   "metadata": {},
   "outputs": [
    {
     "data": {
      "text/plain": [
       "181.74372848007872"
      ]
     },
     "execution_count": 6,
     "metadata": {},
     "output_type": "execute_result"
    }
   ],
   "source": [
    "np.mean(df.groupby('playerShort').height.mean())"
   ]
  },
  {
   "cell_type": "markdown",
   "metadata": {},
   "source": [
    "## Validating data health\n",
    "It is a good idea to quickly explore the dataset to understand the overall health. A first measure of the data quality we check for empty fields in entries"
   ]
  },
  {
   "cell_type": "code",
   "execution_count": 7,
   "metadata": {},
   "outputs": [
    {
     "data": {
      "text/html": [
       "<div>\n",
       "<style scoped>\n",
       "    .dataframe tbody tr th:only-of-type {\n",
       "        vertical-align: middle;\n",
       "    }\n",
       "\n",
       "    .dataframe tbody tr th {\n",
       "        vertical-align: top;\n",
       "    }\n",
       "\n",
       "    .dataframe thead th {\n",
       "        text-align: right;\n",
       "    }\n",
       "</style>\n",
       "<table border=\"1\" class=\"dataframe\">\n",
       "  <thead>\n",
       "    <tr style=\"text-align: right;\">\n",
       "      <th></th>\n",
       "      <th>n_missing_vals</th>\n",
       "      <th>perc_missing</th>\n",
       "    </tr>\n",
       "  </thead>\n",
       "  <tbody>\n",
       "    <tr>\n",
       "      <th>playerShort</th>\n",
       "      <td>0</td>\n",
       "      <td>0.000000</td>\n",
       "    </tr>\n",
       "    <tr>\n",
       "      <th>player</th>\n",
       "      <td>0</td>\n",
       "      <td>0.000000</td>\n",
       "    </tr>\n",
       "    <tr>\n",
       "      <th>club</th>\n",
       "      <td>0</td>\n",
       "      <td>0.000000</td>\n",
       "    </tr>\n",
       "    <tr>\n",
       "      <th>leagueCountry</th>\n",
       "      <td>0</td>\n",
       "      <td>0.000000</td>\n",
       "    </tr>\n",
       "    <tr>\n",
       "      <th>birthday</th>\n",
       "      <td>0</td>\n",
       "      <td>0.000000</td>\n",
       "    </tr>\n",
       "    <tr>\n",
       "      <th>height</th>\n",
       "      <td>263</td>\n",
       "      <td>0.180102</td>\n",
       "    </tr>\n",
       "    <tr>\n",
       "      <th>weight</th>\n",
       "      <td>2243</td>\n",
       "      <td>1.536007</td>\n",
       "    </tr>\n",
       "    <tr>\n",
       "      <th>position</th>\n",
       "      <td>17726</td>\n",
       "      <td>12.138768</td>\n",
       "    </tr>\n",
       "    <tr>\n",
       "      <th>games</th>\n",
       "      <td>0</td>\n",
       "      <td>0.000000</td>\n",
       "    </tr>\n",
       "    <tr>\n",
       "      <th>victories</th>\n",
       "      <td>0</td>\n",
       "      <td>0.000000</td>\n",
       "    </tr>\n",
       "    <tr>\n",
       "      <th>ties</th>\n",
       "      <td>0</td>\n",
       "      <td>0.000000</td>\n",
       "    </tr>\n",
       "    <tr>\n",
       "      <th>defeats</th>\n",
       "      <td>0</td>\n",
       "      <td>0.000000</td>\n",
       "    </tr>\n",
       "    <tr>\n",
       "      <th>goals</th>\n",
       "      <td>0</td>\n",
       "      <td>0.000000</td>\n",
       "    </tr>\n",
       "    <tr>\n",
       "      <th>yellowCards</th>\n",
       "      <td>0</td>\n",
       "      <td>0.000000</td>\n",
       "    </tr>\n",
       "    <tr>\n",
       "      <th>yellowReds</th>\n",
       "      <td>0</td>\n",
       "      <td>0.000000</td>\n",
       "    </tr>\n",
       "    <tr>\n",
       "      <th>redCards</th>\n",
       "      <td>0</td>\n",
       "      <td>0.000000</td>\n",
       "    </tr>\n",
       "    <tr>\n",
       "      <th>photoID</th>\n",
       "      <td>21407</td>\n",
       "      <td>14.659517</td>\n",
       "    </tr>\n",
       "    <tr>\n",
       "      <th>rater1</th>\n",
       "      <td>21407</td>\n",
       "      <td>14.659517</td>\n",
       "    </tr>\n",
       "    <tr>\n",
       "      <th>rater2</th>\n",
       "      <td>21407</td>\n",
       "      <td>14.659517</td>\n",
       "    </tr>\n",
       "    <tr>\n",
       "      <th>refNum</th>\n",
       "      <td>0</td>\n",
       "      <td>0.000000</td>\n",
       "    </tr>\n",
       "    <tr>\n",
       "      <th>refCountry</th>\n",
       "      <td>0</td>\n",
       "      <td>0.000000</td>\n",
       "    </tr>\n",
       "    <tr>\n",
       "      <th>Alpha_3</th>\n",
       "      <td>1</td>\n",
       "      <td>0.000685</td>\n",
       "    </tr>\n",
       "    <tr>\n",
       "      <th>meanIAT</th>\n",
       "      <td>163</td>\n",
       "      <td>0.111622</td>\n",
       "    </tr>\n",
       "    <tr>\n",
       "      <th>nIAT</th>\n",
       "      <td>163</td>\n",
       "      <td>0.111622</td>\n",
       "    </tr>\n",
       "    <tr>\n",
       "      <th>seIAT</th>\n",
       "      <td>163</td>\n",
       "      <td>0.111622</td>\n",
       "    </tr>\n",
       "    <tr>\n",
       "      <th>meanExp</th>\n",
       "      <td>163</td>\n",
       "      <td>0.111622</td>\n",
       "    </tr>\n",
       "    <tr>\n",
       "      <th>nExp</th>\n",
       "      <td>163</td>\n",
       "      <td>0.111622</td>\n",
       "    </tr>\n",
       "    <tr>\n",
       "      <th>seExp</th>\n",
       "      <td>163</td>\n",
       "      <td>0.111622</td>\n",
       "    </tr>\n",
       "  </tbody>\n",
       "</table>\n",
       "</div>"
      ],
      "text/plain": [
       "               n_missing_vals  perc_missing\n",
       "playerShort                 0      0.000000\n",
       "player                      0      0.000000\n",
       "club                        0      0.000000\n",
       "leagueCountry               0      0.000000\n",
       "birthday                    0      0.000000\n",
       "height                    263      0.180102\n",
       "weight                   2243      1.536007\n",
       "position                17726     12.138768\n",
       "games                       0      0.000000\n",
       "victories                   0      0.000000\n",
       "ties                        0      0.000000\n",
       "defeats                     0      0.000000\n",
       "goals                       0      0.000000\n",
       "yellowCards                 0      0.000000\n",
       "yellowReds                  0      0.000000\n",
       "redCards                    0      0.000000\n",
       "photoID                 21407     14.659517\n",
       "rater1                  21407     14.659517\n",
       "rater2                  21407     14.659517\n",
       "refNum                      0      0.000000\n",
       "refCountry                  0      0.000000\n",
       "Alpha_3                     1      0.000685\n",
       "meanIAT                   163      0.111622\n",
       "nIAT                      163      0.111622\n",
       "seIAT                     163      0.111622\n",
       "meanExp                   163      0.111622\n",
       "nExp                      163      0.111622\n",
       "seExp                     163      0.111622"
      ]
     },
     "execution_count": 7,
     "metadata": {},
     "output_type": "execute_result"
    }
   ],
   "source": [
    "null_vals = pd.concat([df.isnull().sum(),100*df.isnull().sum()/df.shape[0]],axis=1)\n",
    "null_vals.columns = ['n_missing_vals','perc_missing']\n",
    "null_vals"
   ]
  },
  {
   "cell_type": "markdown",
   "metadata": {},
   "source": [
    "There are several missing entries in the different categories. In particular, there is missing information on the players skin color, the attribute we want to study.  We can also visualize the distribution of missing data"
   ]
  },
  {
   "cell_type": "code",
   "execution_count": 8,
   "metadata": {},
   "outputs": [
    {
     "data": {
      "text/plain": [
       "<matplotlib.axes._subplots.AxesSubplot at 0x7f488a721358>"
      ]
     },
     "execution_count": 8,
     "metadata": {},
     "output_type": "execute_result"
    },
    {
     "data": {
      "image/png": "[encoded data removed]",
      "text/plain": [
       "<Figure size 432x288 with 1 Axes>"
      ]
     },
     "metadata": {},
     "output_type": "display_data"
    }
   ],
   "source": [
    "sns.heatmap(df.isnull(), cbar=False)"
   ]
  },
  {
   "cell_type": "markdown",
   "metadata": {},
   "source": [
    "## Exploring the data: skin color"
   ]
  },
  {
   "cell_type": "markdown",
   "metadata": {},
   "source": [
    "We see that roughly 15% of players are missing information on their skin color from one or two of the raters. These should be excluded if we want to explore the correlation between these and the number of red cards.  Lets check the instances where we only have one rater value"
   ]
  },
  {
   "cell_type": "code",
   "execution_count": 9,
   "metadata": {},
   "outputs": [
    {
     "name": "stdout",
     "output_type": "stream",
     "text": [
      "All players:  2053\n",
      "Missing rater1 score:  468\n",
      "Missing rater2 score:  468\n"
     ]
    }
   ],
   "source": [
    "players  = df.groupby('playerShort')\n",
    "print('All players: ', len(players))\n",
    "print('Missing rater1 score: ', len(df[df.rater1.isnull()].groupby('playerShort')))\n",
    "print('Missing rater2 score: ', len(df[df.rater2.isnull()].groupby('playerShort')))"
   ]
  },
  {
   "cell_type": "code",
   "execution_count": 10,
   "metadata": {},
   "outputs": [
    {
     "name": "stdout",
     "output_type": "stream",
     "text": [
      "Missing one, but not the other:  0\n"
     ]
    }
   ],
   "source": [
    "one_skin_tone_rating = np.logical_xor(df.rater1.isnull(),df.rater2.isnull())\n",
    "print('Missing one, but not the other: ', one_skin_tone_rating.sum())"
   ]
  },
  {
   "cell_type": "markdown",
   "metadata": {},
   "source": [
    "## Let's fix the data frame\n",
    "Good news! Entries have two or no entries for skin color. Let's remove these entries and understand the relationship between the raters. We can check the correlation between the two raters scores"
   ]
  },
  {
   "cell_type": "code",
   "execution_count": 11,
   "metadata": {},
   "outputs": [
    {
     "data": {
      "text/plain": [
       "<matplotlib.axes._subplots.AxesSubplot at 0x7f488a5ddd68>"
      ]
     },
     "execution_count": 11,
     "metadata": {},
     "output_type": "execute_result"
    },
    {
     "data": {
      "image/png": "[encoded data removed]",
      "text/plain": [
       "<Figure size 432x288 with 1 Axes>"
      ]
     },
     "metadata": {},
     "output_type": "display_data"
    }
   ],
   "source": [
    "df = df[df.rater1.notnull()]\n",
    "sns.heatmap(df.isnull(), cbar=False)"
   ]
  },
  {
   "cell_type": "code",
   "execution_count": 12,
   "metadata": {},
   "outputs": [
    {
     "data": {
      "text/html": [
       "<div>\n",
       "<style scoped>\n",
       "    .dataframe tbody tr th:only-of-type {\n",
       "        vertical-align: middle;\n",
       "    }\n",
       "\n",
       "    .dataframe tbody tr th {\n",
       "        vertical-align: top;\n",
       "    }\n",
       "\n",
       "    .dataframe thead th {\n",
       "        text-align: right;\n",
       "    }\n",
       "</style>\n",
       "<table border=\"1\" class=\"dataframe\">\n",
       "  <thead>\n",
       "    <tr style=\"text-align: right;\">\n",
       "      <th></th>\n",
       "      <th>rater1</th>\n",
       "      <th>rater2</th>\n",
       "    </tr>\n",
       "  </thead>\n",
       "  <tbody>\n",
       "    <tr>\n",
       "      <th>rater1</th>\n",
       "      <td>1.000000</td>\n",
       "      <td>0.852792</td>\n",
       "    </tr>\n",
       "    <tr>\n",
       "      <th>rater2</th>\n",
       "      <td>0.852792</td>\n",
       "      <td>1.000000</td>\n",
       "    </tr>\n",
       "  </tbody>\n",
       "</table>\n",
       "</div>"
      ],
      "text/plain": [
       "          rater1    rater2\n",
       "rater1  1.000000  0.852792\n",
       "rater2  0.852792  1.000000"
      ]
     },
     "execution_count": 12,
     "metadata": {},
     "output_type": "execute_result"
    },
    {
     "data": {
      "image/png": "[encoded data removed]",
      "text/plain": [
       "<Figure size 864x576 with 2 Axes>"
      ]
     },
     "metadata": {},
     "output_type": "display_data"
    }
   ],
   "source": [
    "fig, ax = plt.subplots(figsize=(12, 8))\n",
    "sns.heatmap(pd.crosstab(df.rater1, df.rater2), cmap='Blues', annot=True, fmt='d', ax=ax)\n",
    "ax.set_title(\"Correlation between Rater 1 and Rater 2\\n\")\n",
    "fig.tight_layout()\n",
    "(df[['rater1','rater2']].corr()**2).T\n",
    "# df[['yellowCards','yellowReds','redCards']].corr()**2"
   ]
  },
  {
   "cell_type": "markdown",
   "metadata": {},
   "source": [
    "### More good news! \n",
    "The two skin tone scores are highly correlated. We can start by engineering our first feature and simply take the average of both scores and take a look at the distribution"
   ]
  },
  {
   "cell_type": "code",
   "execution_count": 13,
   "metadata": {},
   "outputs": [
    {
     "name": "stderr",
     "output_type": "stream",
     "text": [
      "/usr/local/lib/python3.6/site-packages/ipykernel_launcher.py:1: SettingWithCopyWarning: \n",
      "A value is trying to be set on a copy of a slice from a DataFrame.\n",
      "Try using .loc[row_indexer,col_indexer] = value instead\n",
      "\n",
      "See the caveats in the documentation: http://pandas.pydata.org/pandas-docs/stable/indexing.html#indexing-view-versus-copy\n",
      "  \"\"\"Entry point for launching an IPython kernel.\n"
     ]
    },
    {
     "data": {
      "text/html": [
       "<div>\n",
       "<style scoped>\n",
       "    .dataframe tbody tr th:only-of-type {\n",
       "        vertical-align: middle;\n",
       "    }\n",
       "\n",
       "    .dataframe tbody tr th {\n",
       "        vertical-align: top;\n",
       "    }\n",
       "\n",
       "    .dataframe thead th {\n",
       "        text-align: right;\n",
       "    }\n",
       "</style>\n",
       "<table border=\"1\" class=\"dataframe\">\n",
       "  <thead>\n",
       "    <tr style=\"text-align: right;\">\n",
       "      <th></th>\n",
       "      <th>playerShort</th>\n",
       "      <th>player</th>\n",
       "      <th>club</th>\n",
       "      <th>leagueCountry</th>\n",
       "      <th>birthday</th>\n",
       "      <th>height</th>\n",
       "      <th>weight</th>\n",
       "      <th>position</th>\n",
       "      <th>games</th>\n",
       "      <th>victories</th>\n",
       "      <th>...</th>\n",
       "      <th>refNum</th>\n",
       "      <th>refCountry</th>\n",
       "      <th>Alpha_3</th>\n",
       "      <th>meanIAT</th>\n",
       "      <th>nIAT</th>\n",
       "      <th>seIAT</th>\n",
       "      <th>meanExp</th>\n",
       "      <th>nExp</th>\n",
       "      <th>seExp</th>\n",
       "      <th>skin</th>\n",
       "    </tr>\n",
       "  </thead>\n",
       "  <tbody>\n",
       "    <tr>\n",
       "      <th>0</th>\n",
       "      <td>lucas-wilchez</td>\n",
       "      <td>Lucas Wilchez</td>\n",
       "      <td>Real Zaragoza</td>\n",
       "      <td>Spain</td>\n",
       "      <td>31.08.1983</td>\n",
       "      <td>177.0</td>\n",
       "      <td>72.0</td>\n",
       "      <td>Attacking Midfielder</td>\n",
       "      <td>1</td>\n",
       "      <td>0</td>\n",
       "      <td>...</td>\n",
       "      <td>1</td>\n",
       "      <td>1</td>\n",
       "      <td>GRC</td>\n",
       "      <td>0.326391</td>\n",
       "      <td>712.0</td>\n",
       "      <td>0.000564</td>\n",
       "      <td>0.396000</td>\n",
       "      <td>750.0</td>\n",
       "      <td>0.002696</td>\n",
       "      <td>0.375</td>\n",
       "    </tr>\n",
       "    <tr>\n",
       "      <th>1</th>\n",
       "      <td>john-utaka</td>\n",
       "      <td>John Utaka</td>\n",
       "      <td>Montpellier HSC</td>\n",
       "      <td>France</td>\n",
       "      <td>08.01.1982</td>\n",
       "      <td>179.0</td>\n",
       "      <td>82.0</td>\n",
       "      <td>Right Winger</td>\n",
       "      <td>1</td>\n",
       "      <td>0</td>\n",
       "      <td>...</td>\n",
       "      <td>2</td>\n",
       "      <td>2</td>\n",
       "      <td>ZMB</td>\n",
       "      <td>0.203375</td>\n",
       "      <td>40.0</td>\n",
       "      <td>0.010875</td>\n",
       "      <td>-0.204082</td>\n",
       "      <td>49.0</td>\n",
       "      <td>0.061504</td>\n",
       "      <td>0.750</td>\n",
       "    </tr>\n",
       "    <tr>\n",
       "      <th>5</th>\n",
       "      <td>aaron-hughes</td>\n",
       "      <td>Aaron Hughes</td>\n",
       "      <td>Fulham FC</td>\n",
       "      <td>England</td>\n",
       "      <td>08.11.1979</td>\n",
       "      <td>182.0</td>\n",
       "      <td>71.0</td>\n",
       "      <td>Center Back</td>\n",
       "      <td>1</td>\n",
       "      <td>0</td>\n",
       "      <td>...</td>\n",
       "      <td>4</td>\n",
       "      <td>4</td>\n",
       "      <td>LUX</td>\n",
       "      <td>0.325185</td>\n",
       "      <td>127.0</td>\n",
       "      <td>0.003297</td>\n",
       "      <td>0.538462</td>\n",
       "      <td>130.0</td>\n",
       "      <td>0.013752</td>\n",
       "      <td>0.125</td>\n",
       "    </tr>\n",
       "    <tr>\n",
       "      <th>6</th>\n",
       "      <td>aleksandar-kolarov</td>\n",
       "      <td>Aleksandar Kolarov</td>\n",
       "      <td>Manchester City</td>\n",
       "      <td>England</td>\n",
       "      <td>10.11.1985</td>\n",
       "      <td>187.0</td>\n",
       "      <td>80.0</td>\n",
       "      <td>Left Fullback</td>\n",
       "      <td>1</td>\n",
       "      <td>1</td>\n",
       "      <td>...</td>\n",
       "      <td>4</td>\n",
       "      <td>4</td>\n",
       "      <td>LUX</td>\n",
       "      <td>0.325185</td>\n",
       "      <td>127.0</td>\n",
       "      <td>0.003297</td>\n",
       "      <td>0.538462</td>\n",
       "      <td>130.0</td>\n",
       "      <td>0.013752</td>\n",
       "      <td>0.125</td>\n",
       "    </tr>\n",
       "    <tr>\n",
       "      <th>7</th>\n",
       "      <td>alexander-tettey</td>\n",
       "      <td>Alexander Tettey</td>\n",
       "      <td>Norwich City</td>\n",
       "      <td>England</td>\n",
       "      <td>04.04.1986</td>\n",
       "      <td>180.0</td>\n",
       "      <td>68.0</td>\n",
       "      <td>Defensive Midfielder</td>\n",
       "      <td>1</td>\n",
       "      <td>0</td>\n",
       "      <td>...</td>\n",
       "      <td>4</td>\n",
       "      <td>4</td>\n",
       "      <td>LUX</td>\n",
       "      <td>0.325185</td>\n",
       "      <td>127.0</td>\n",
       "      <td>0.003297</td>\n",
       "      <td>0.538462</td>\n",
       "      <td>130.0</td>\n",
       "      <td>0.013752</td>\n",
       "      <td>1.000</td>\n",
       "    </tr>\n",
       "  </tbody>\n",
       "</table>\n",
       "<p>5 rows × 29 columns</p>\n",
       "</div>"
      ],
      "text/plain": [
       "          playerShort              player             club leagueCountry  \\\n",
       "0       lucas-wilchez       Lucas Wilchez    Real Zaragoza         Spain   \n",
       "1          john-utaka          John Utaka  Montpellier HSC        France   \n",
       "5        aaron-hughes        Aaron Hughes        Fulham FC       England   \n",
       "6  aleksandar-kolarov  Aleksandar Kolarov  Manchester City       England   \n",
       "7    alexander-tettey    Alexander Tettey     Norwich City       England   \n",
       "\n",
       "     birthday  height  weight              position  games  victories  ...    \\\n",
       "0  31.08.1983   177.0    72.0  Attacking Midfielder      1          0  ...     \n",
       "1  08.01.1982   179.0    82.0          Right Winger      1          0  ...     \n",
       "5  08.11.1979   182.0    71.0           Center Back      1          0  ...     \n",
       "6  10.11.1985   187.0    80.0         Left Fullback      1          1  ...     \n",
       "7  04.04.1986   180.0    68.0  Defensive Midfielder      1          0  ...     \n",
       "\n",
       "   refNum  refCountry  Alpha_3   meanIAT   nIAT     seIAT   meanExp   nExp  \\\n",
       "0       1           1      GRC  0.326391  712.0  0.000564  0.396000  750.0   \n",
       "1       2           2      ZMB  0.203375   40.0  0.010875 -0.204082   49.0   \n",
       "5       4           4      LUX  0.325185  127.0  0.003297  0.538462  130.0   \n",
       "6       4           4      LUX  0.325185  127.0  0.003297  0.538462  130.0   \n",
       "7       4           4      LUX  0.325185  127.0  0.003297  0.538462  130.0   \n",
       "\n",
       "      seExp   skin  \n",
       "0  0.002696  0.375  \n",
       "1  0.061504  0.750  \n",
       "5  0.013752  0.125  \n",
       "6  0.013752  0.125  \n",
       "7  0.013752  1.000  \n",
       "\n",
       "[5 rows x 29 columns]"
      ]
     },
     "execution_count": 13,
     "metadata": {},
     "output_type": "execute_result"
    }
   ],
   "source": [
    "df['skin'] = df[['rater1','rater2']].mean(axis=1)\n",
    "df.head()"
   ]
  },
  {
   "cell_type": "code",
   "execution_count": 14,
   "metadata": {},
   "outputs": [
    {
     "name": "stderr",
     "output_type": "stream",
     "text": [
      "/usr/local/lib/python3.6/site-packages/matplotlib/axes/_axes.py:6462: UserWarning: The 'normed' kwarg is deprecated, and has been replaced by the 'density' kwarg.\n",
      "  warnings.warn(\"The 'normed' kwarg is deprecated, and has been \"\n"
     ]
    },
    {
     "data": {
      "text/plain": [
       "<matplotlib.axes._subplots.AxesSubplot at 0x7f488a47a9b0>"
      ]
     },
     "execution_count": 14,
     "metadata": {},
     "output_type": "execute_result"
    },
    {
     "data": {
      "image/png": "[encoded data removed]",
      "text/plain": [
       "<Figure size 432x288 with 1 Axes>"
      ]
     },
     "metadata": {},
     "output_type": "display_data"
    }
   ],
   "source": [
    "skintone = df.groupby('playerShort').skin.mean()\n",
    "sns.distplot(skintone)"
   ]
  },
  {
   "cell_type": "markdown",
   "metadata": {},
   "source": [
    "## Other player correlations\n",
    "Just to illustrate lets take a look at other pairwise relationships in player attributes. Lets create a second dataframe with only the players information"
   ]
  },
  {
   "cell_type": "code",
   "execution_count": 15,
   "metadata": {},
   "outputs": [
    {
     "data": {
      "text/html": [
       "<div>\n",
       "<style scoped>\n",
       "    .dataframe tbody tr th:only-of-type {\n",
       "        vertical-align: middle;\n",
       "    }\n",
       "\n",
       "    .dataframe tbody tr th {\n",
       "        vertical-align: top;\n",
       "    }\n",
       "\n",
       "    .dataframe thead th {\n",
       "        text-align: right;\n",
       "    }\n",
       "</style>\n",
       "<table border=\"1\" class=\"dataframe\">\n",
       "  <thead>\n",
       "    <tr style=\"text-align: right;\">\n",
       "      <th>playerShort</th>\n",
       "      <th>aaron-hughes</th>\n",
       "      <th>aaron-hunt</th>\n",
       "      <th>aaron-lennon</th>\n",
       "      <th>aaron-ramsey</th>\n",
       "      <th>abdelhamid-el-kaoutari</th>\n",
       "    </tr>\n",
       "  </thead>\n",
       "  <tbody>\n",
       "    <tr>\n",
       "      <th>birthday</th>\n",
       "      <td>08.11.1979</td>\n",
       "      <td>04.09.1986</td>\n",
       "      <td>16.04.1987</td>\n",
       "      <td>26.12.1990</td>\n",
       "      <td>17.03.1990</td>\n",
       "    </tr>\n",
       "    <tr>\n",
       "      <th>height</th>\n",
       "      <td>182</td>\n",
       "      <td>183</td>\n",
       "      <td>165</td>\n",
       "      <td>178</td>\n",
       "      <td>180</td>\n",
       "    </tr>\n",
       "    <tr>\n",
       "      <th>weight</th>\n",
       "      <td>71</td>\n",
       "      <td>73</td>\n",
       "      <td>63</td>\n",
       "      <td>76</td>\n",
       "      <td>73</td>\n",
       "    </tr>\n",
       "    <tr>\n",
       "      <th>position</th>\n",
       "      <td>Center Back</td>\n",
       "      <td>Attacking Midfielder</td>\n",
       "      <td>Right Midfielder</td>\n",
       "      <td>Center Midfielder</td>\n",
       "      <td>Center Back</td>\n",
       "    </tr>\n",
       "    <tr>\n",
       "      <th>photoID</th>\n",
       "      <td>3868.jpg</td>\n",
       "      <td>20136.jpg</td>\n",
       "      <td>13515.jpg</td>\n",
       "      <td>94953.jpg</td>\n",
       "      <td>124913.jpg</td>\n",
       "    </tr>\n",
       "    <tr>\n",
       "      <th>skin</th>\n",
       "      <td>0.125</td>\n",
       "      <td>0.125</td>\n",
       "      <td>0.25</td>\n",
       "      <td>0</td>\n",
       "      <td>0.25</td>\n",
       "    </tr>\n",
       "  </tbody>\n",
       "</table>\n",
       "</div>"
      ],
      "text/plain": [
       "playerShort aaron-hughes            aaron-hunt      aaron-lennon  \\\n",
       "birthday      08.11.1979            04.09.1986        16.04.1987   \n",
       "height               182                   183               165   \n",
       "weight                71                    73                63   \n",
       "position     Center Back  Attacking Midfielder  Right Midfielder   \n",
       "photoID         3868.jpg             20136.jpg         13515.jpg   \n",
       "skin               0.125                 0.125              0.25   \n",
       "\n",
       "playerShort       aaron-ramsey abdelhamid-el-kaoutari  \n",
       "birthday            26.12.1990             17.03.1990  \n",
       "height                     178                    180  \n",
       "weight                      76                     73  \n",
       "position     Center Midfielder            Center Back  \n",
       "photoID              94953.jpg             124913.jpg  \n",
       "skin                         0                   0.25  "
      ]
     },
     "execution_count": 15,
     "metadata": {},
     "output_type": "execute_result"
    }
   ],
   "source": [
    "player_index = 'playerShort'\n",
    "player_cols = [#'player', # drop player name, we have unique identifier\n",
    "               'birthday',\n",
    "               'height',\n",
    "               'weight',\n",
    "               'position',\n",
    "               'photoID',\n",
    "                'skin'\n",
    "              ]\n",
    "players = df.groupby('playerShort').agg({col:'max' for col in player_cols})\n",
    "players.head().T"
   ]
  },
  {
   "cell_type": "code",
   "execution_count": 16,
   "metadata": {},
   "outputs": [
    {
     "name": "stderr",
     "output_type": "stream",
     "text": [
      "/usr/local/lib/python3.6/site-packages/ipykernel_launcher.py:2: FutureWarning: 'pandas.tools.plotting.scatter_matrix' is deprecated, import 'pandas.plotting.scatter_matrix' instead.\n",
      "  \n",
      "/usr/local/lib/python3.6/site-packages/ipykernel_launcher.py:2: UserWarning: To output multiple subplots, the figure containing the passed axes is being cleared\n",
      "  \n"
     ]
    },
    {
     "data": {
      "text/plain": [
       "array([[<matplotlib.axes._subplots.AxesSubplot object at 0x7f488a5dd2e8>,\n",
       "        <matplotlib.axes._subplots.AxesSubplot object at 0x7f488a5d2c50>,\n",
       "        <matplotlib.axes._subplots.AxesSubplot object at 0x7f488a618160>],\n",
       "       [<matplotlib.axes._subplots.AxesSubplot object at 0x7f488a5ff7f0>,\n",
       "        <matplotlib.axes._subplots.AxesSubplot object at 0x7f488a2aae80>,\n",
       "        <matplotlib.axes._subplots.AxesSubplot object at 0x7f488a2aaeb8>],\n",
       "       [<matplotlib.axes._subplots.AxesSubplot object at 0x7f488a27f400>,\n",
       "        <matplotlib.axes._subplots.AxesSubplot object at 0x7f488a221a90>,\n",
       "        <matplotlib.axes._subplots.AxesSubplot object at 0x7f488a251160>]],\n",
       "      dtype=object)"
      ]
     },
     "execution_count": 16,
     "metadata": {},
     "output_type": "execute_result"
    },
    {
     "data": {
      "image/png": "[encoded data removed]",
      "text/plain": [
       "<Figure size 720x720 with 9 Axes>"
      ]
     },
     "metadata": {},
     "output_type": "display_data"
    }
   ],
   "source": [
    "fig, ax = plt.subplots(figsize=(10,10))\n",
    "pd.tools.plotting.scatter_matrix(players[['height', 'weight', 'skin']], alpha=0.2, diagonal='hist', ax=ax)"
   ]
  },
  {
   "cell_type": "markdown",
   "metadata": {},
   "source": [
    "## Quick detour: weight vs. height\n",
    "As expected, there is a clear correlation between the weight and height of players. Lets focus on this specific pair to extract a relationship."
   ]
  },
  {
   "cell_type": "code",
   "execution_count": 17,
   "metadata": {},
   "outputs": [
    {
     "name": "stdout",
     "output_type": "stream",
     "text": [
      "[[0.75153439]] [124.90027714]\n"
     ]
    }
   ],
   "source": [
    "from sklearn.linear_model import LinearRegression\n",
    "players1 = players[players.height.notnull()]\n",
    "players1 = players1[players1.weight.notnull()]\n",
    "\n",
    "X = np.array(players1.weight).reshape(-1,1)\n",
    "y = np.array(players1.height).reshape(-1,1)\n",
    "reg = LinearRegression().fit(X,y)\n",
    "print(reg.coef_, reg.intercept_)"
   ]
  },
  {
   "cell_type": "code",
   "execution_count": 18,
   "metadata": {},
   "outputs": [
    {
     "data": {
      "text/plain": [
       "Text(0.1,0.8,'y = 0.75 x + 124.90')"
      ]
     },
     "execution_count": 18,
     "metadata": {},
     "output_type": "execute_result"
    },
    {
     "data": {
      "image/png": "[encoded data removed]",
      "text/plain": [
       "<Figure size 720x720 with 1 Axes>"
      ]
     },
     "metadata": {},
     "output_type": "display_data"
    }
   ],
   "source": [
    "fig, ax = plt.subplots(figsize=(10,10))\n",
    "sns.regplot('weight', 'height', data=players, ax=ax)\n",
    "ax.set_ylabel(\"Height [cm]\")\n",
    "ax.set_xlabel(\"Weight [kg]\")\n",
    "fig.tight_layout()\n",
    "fig.text(0.1,0.8, 'y = %0.2lf x + %0.2lf' %(reg.coef_ , reg.intercept_), fontsize = 20)\n"
   ]
  },
  {
   "cell_type": "markdown",
   "metadata": {},
   "source": [
    "## Positions\n",
    "It is possible that the player position has a strong influece on the number of cards as well."
   ]
  },
  {
   "cell_type": "code",
   "execution_count": 19,
   "metadata": {},
   "outputs": [
    {
     "data": {
      "text/plain": [
       "Text(0.5,0,'Position')"
      ]
     },
     "execution_count": 19,
     "metadata": {},
     "output_type": "execute_result"
    },
    {
     "data": {
      "image/png": "[encoded data removed]",
      "text/plain": [
       "<Figure size 720x720 with 1 Axes>"
      ]
     },
     "metadata": {},
     "output_type": "display_data"
    }
   ],
   "source": [
    "fig, ax = plt.subplots(figsize = (10,10))\n",
    "players.position.value_counts(dropna=False).plot(kind='barh', ax=ax)\n",
    "ax.set_xlabel('Position')"
   ]
  },
  {
   "cell_type": "markdown",
   "metadata": {},
   "source": [
    "## Classify positions\n",
    "In order to use this information later, lets split the positions into four categories. Modify th original datframe that has "
   ]
  },
  {
   "cell_type": "code",
   "execution_count": 20,
   "metadata": {},
   "outputs": [],
   "source": [
    "defense = ['Center Back','Defensive Midfielder', 'Left Fullback', 'Right Fullback', ]\n",
    "midfield = ['Right Midfielder', 'Center Midfielder', 'Left Midfielder',]\n",
    "forward = ['Attacking Midfielder', 'Left Winger', 'Right Winger', 'Center Forward']\n",
    "keeper = 'Goalkeeper'\n",
    "\n",
    "# modifying dataframe -- adding the aggregated position categorical position_agg\n",
    "df.loc[df['position'].isin(defense), 'position_agg'] = \"Defense\"\n",
    "df.loc[df['position'].isin(midfield), 'position_agg'] = \"Midfield\"\n",
    "df.loc[df['position'].isin(forward), 'position_agg'] = \"Forward\"\n",
    "df.loc[df['position'].eq(keeper), 'position_agg'] = \"Keeper\""
   ]
  },
  {
   "cell_type": "code",
   "execution_count": 21,
   "metadata": {},
   "outputs": [
    {
     "data": {
      "text/plain": [
       "position_agg\n",
       "Defense     0.650155\n",
       "Forward     0.462791\n",
       "Keeper      0.503106\n",
       "Midfield    0.484694\n",
       "Name: redCards, dtype: float64"
      ]
     },
     "execution_count": 21,
     "metadata": {},
     "output_type": "execute_result"
    }
   ],
   "source": [
    "player_index = 'playerShort'\n",
    "player_cols = ['birthday',\n",
    "               'height',\n",
    "               'weight',\n",
    "               'position_agg',\n",
    "               'redCards',\n",
    "                'skin'\n",
    "              ]\n",
    "players = df.groupby('playerShort').agg({col:'max' for col in player_cols})\n",
    "players.groupby('position_agg').redCards.mean().T"
   ]
  },
  {
   "cell_type": "markdown",
   "metadata": {},
   "source": [
    "No statistically significant difference, though defense is more likely to have red cards...surprising that Keepers have a decent amount"
   ]
  },
  {
   "cell_type": "markdown",
   "metadata": {},
   "source": [
    "## Exploring the data: refs and red cards\n",
    "Most games have few red cards, i.e. the data set is very unbalanced, especially for cases where a player receives two.  We also have a second scenario where a player receives a red card due to multiple yellow cards. Let't collapse these into a single field. At present we can look at the average number of red cards each player receives per game"
   ]
  },
  {
   "cell_type": "code",
   "execution_count": 24,
   "metadata": {},
   "outputs": [
    {
     "data": {
      "text/plain": [
       "(array([1.235e+03, 2.590e+02, 6.500e+01, 1.800e+01, 3.000e+00, 4.000e+00,\n",
       "        0.000e+00, 0.000e+00, 0.000e+00, 1.000e+00]),\n",
       " array([0.        , 0.01428571, 0.02857143, 0.04285714, 0.05714286,\n",
       "        0.07142857, 0.08571429, 0.1       , 0.11428571, 0.12857143,\n",
       "        0.14285714]),\n",
       " <a list of 10 Patch objects>)"
      ]
     },
     "execution_count": 24,
     "metadata": {},
     "output_type": "execute_result"
    },
    {
     "data": {
      "image/png": "[encoded data removed]",
      "text/plain": [
       "<Figure size 432x288 with 1 Axes>"
      ]
     },
     "metadata": {},
     "output_type": "display_data"
    }
   ],
   "source": [
    "df['total_reds'] = (df.redCards + df.yellowReds)/df.games\n",
    "plt.hist(df.groupby('playerShort').total_reds.mean())"
   ]
  },
  {
   "cell_type": "code",
   "execution_count": 23,
   "metadata": {},
   "outputs": [
    {
     "data": {
      "text/plain": [
       "<bound method NDFrame.head of                   playerShort                 player                  club  \\\n",
       "0               lucas-wilchez          Lucas Wilchez         Real Zaragoza   \n",
       "1                  john-utaka             John Utaka       Montpellier HSC   \n",
       "5                aaron-hughes           Aaron Hughes             Fulham FC   \n",
       "6          aleksandar-kolarov     Aleksandar Kolarov       Manchester City   \n",
       "7            alexander-tettey       Alexander Tettey          Norwich City   \n",
       "8           anders-lindegaard      Anders Lindegaard     Manchester United   \n",
       "9                andreas-beck           Andreas Beck       1899 Hoffenheim   \n",
       "10           antonio-rukavina       Antonio Rukavina       Real Valladolid   \n",
       "11             ashkan-dejagah         Ashkan Dejagah             Fulham FC   \n",
       "12          benedikt-hoewedes       Benedikt Höwedes         FC Schalke 04   \n",
       "13                chris-baird            Chris Baird             Fulham FC   \n",
       "14                chris-brunt            Chris Brunt  West Bromwich Albion   \n",
       "15             daniel-schwaab         Daniel Schwaab      Bayer Leverkusen   \n",
       "16                dennis-aogo            Dennis Aogo          Hamburger SV   \n",
       "17           george-mccartney       George McCartney       West Ham United   \n",
       "18           gylfi-sigurdsson       Gylfi Sigurðsson     Tottenham Hotspur   \n",
       "19             ivan-obradovic         Ivan Obradović         Real Zaragoza   \n",
       "20                jan-moravek            Jan Morávek           FC Augsburg   \n",
       "21              jan-rosenthal          Jan Rosenthal           SC Freiburg   \n",
       "22                jonny-evans            Jonny Evans     Manchester United   \n",
       "23      kyriakos-papadopoulos  Kyriakos Papadopoulos         FC Schalke 04   \n",
       "24                marko-marin            Marko Marin            Chelsea FC   \n",
       "25               mats-hummels           Mats Hummels     Borussia Dortmund   \n",
       "26                mesut-oezil             Mesut Özil           Real Madrid   \n",
       "27            milorad-pekovic        Milorad Peković  SpVgg Greuther Fürth   \n",
       "28              nemanja-vidic          Nemanja Vidić     Manchester United   \n",
       "29              neven-subotic          Neven Subotić     Borussia Dortmund   \n",
       "30              patrick-ebert          Patrick Ebert       Real Valladolid   \n",
       "31              peter-gulacsi          Péter Gulácsi      Liverpool FC (R)   \n",
       "32             steven-davis_2           Steven Davis        Southampton FC   \n",
       "...                       ...                    ...                   ...   \n",
       "145998        mohamed-sissoko        Mohamed Sissoko   Paris Saint-Germain   \n",
       "145999                   nani                   Nani     Manchester United   \n",
       "146000           nedum-onuoha           Nedum Onuoha   Queens Park Rangers   \n",
       "146001          nelson-valdez          Nelson Valdez           Valencia CF   \n",
       "146002     nemanja-pejcinovic     Nemanja Pejčinović              OGC Nice   \n",
       "146003        nikos-karabelas        Nikos Karabelas            Levante UD   \n",
       "146004        obafemi-martins        Obafemi Martins            Levante UD   \n",
       "146005              petr-cech              Petr Čech            Chelsea FC   \n",
       "146006      radoslav-zabavnik      Radoslav Zabavník       1. FSV Mainz 05   \n",
       "146007   rafael-van-der-vaart   Rafael van der Vaart          Hamburger SV   \n",
       "146008         ricardo-vaz-te         Ricardo Vaz Tê       West Ham United   \n",
       "146009          richard-dunne          Richard Dunne           Aston Villa   \n",
       "146010       robin-van-persie       Robin van Persie     Manchester United   \n",
       "146011          romelu-lukaku          Romelu Lukaku  West Bromwich Albion   \n",
       "146012      sebastian-larsson      Sebastian Larsson        Sunderland AFC   \n",
       "146013       sebastian-proedl        Sebastian Prödl         Werder Bremen   \n",
       "146014          shaun-maloney          Shaun Maloney        Wigan Athletic   \n",
       "146015  shaun-wright-phillips  Shaun Wright-Phillips   Queens Park Rangers   \n",
       "146016             shay-given             Shay Given           Aston Villa   \n",
       "146017           shola-ameobi           Shola Ameobi      Newcastle United   \n",
       "146018      slobodan-rajkovic      Slobodan Rajković          Hamburger SV   \n",
       "146019          steven-taylor          Steven Taylor      Newcastle United   \n",
       "146020           timmy-simons           Timmy Simons        1. FC Nürnberg   \n",
       "146021          titus-bramble          Titus Bramble        Sunderland AFC   \n",
       "146022        tom-huddlestone        Tom Huddlestone     Tottenham Hotspur   \n",
       "146023          tomas-rosicky          Tomáš Rosický            Arsenal FC   \n",
       "146024           winston-reid           Winston Reid       West Ham United   \n",
       "146025        xherdan-shaqiri        Xherdan Shaqiri        Bayern München   \n",
       "146026    yassine-el-ghanassi    Yassine El Ghanassi  West Bromwich Albion   \n",
       "146027           zdenk-pospch         Zdeněk Pospěch       1. FSV Mainz 05   \n",
       "\n",
       "       leagueCountry    birthday  height  weight              position  games  \\\n",
       "0              Spain  31.08.1983   177.0    72.0  Attacking Midfielder      1   \n",
       "1             France  08.01.1982   179.0    82.0          Right Winger      1   \n",
       "5            England  08.11.1979   182.0    71.0           Center Back      1   \n",
       "6            England  10.11.1985   187.0    80.0         Left Fullback      1   \n",
       "7            England  04.04.1986   180.0    68.0  Defensive Midfielder      1   \n",
       "8            England  13.04.1984   193.0    80.0            Goalkeeper      1   \n",
       "9            Germany  13.03.1987   180.0    70.0        Right Fullback      1   \n",
       "10             Spain  26.01.1984   177.0    74.0        Right Fullback      2   \n",
       "11           England  05.07.1986   181.0    74.0           Left Winger      1   \n",
       "12           Germany  29.02.1988   187.0    80.0           Center Back      1   \n",
       "13           England  25.02.1982   186.0    77.0  Defensive Midfielder      1   \n",
       "14           England  14.12.1984   185.0    74.0                   NaN      1   \n",
       "15           Germany  23.08.1988   186.0    76.0        Right Fullback      1   \n",
       "16           Germany  14.01.1987   184.0    85.0         Left Fullback      1   \n",
       "17           England  29.04.1981   180.0    74.0         Left Fullback      1   \n",
       "18           England  08.09.1989   186.0    77.0  Attacking Midfielder      1   \n",
       "19             Spain  25.07.1988   181.0    74.0         Left Fullback      1   \n",
       "20           Germany  01.11.1989   180.0    75.0  Attacking Midfielder      1   \n",
       "21           Germany  07.04.1986   186.0    76.0  Attacking Midfielder      1   \n",
       "22           England  02.01.1988   188.0    77.0           Center Back      1   \n",
       "23           Germany  23.02.1992   183.0    85.0           Center Back      1   \n",
       "24           England  13.03.1989   170.0    63.0  Attacking Midfielder      1   \n",
       "25           Germany  16.12.1988   192.0    90.0           Center Back      1   \n",
       "26             Spain  15.10.1988   183.0    76.0  Attacking Midfielder      1   \n",
       "27           Germany  05.08.1977   189.0    88.0  Defensive Midfielder      1   \n",
       "28           England  21.10.1981   188.0    82.0           Center Back      2   \n",
       "29           Germany  10.12.1988   193.0    88.0           Center Back      2   \n",
       "30             Spain  17.03.1987   172.0    68.0       Left Midfielder      1   \n",
       "31           England  06.05.1990   190.0    75.0            Goalkeeper      1   \n",
       "32           England  01.01.1985   170.0    60.0  Defensive Midfielder      1   \n",
       "...              ...         ...     ...     ...                   ...    ...   \n",
       "145998        France  22.01.1985   191.0    81.0  Defensive Midfielder      1   \n",
       "145999       England  17.11.1986   175.0    66.0          Right Winger      1   \n",
       "146000       England  12.11.1986   183.0    78.0           Center Back      1   \n",
       "146001         Spain  28.11.1983   178.0    73.0        Center Forward      1   \n",
       "146002        France  04.11.1987   185.0    84.0           Center Back      1   \n",
       "146003         Spain  20.12.1984   180.0    72.0         Left Fullback      1   \n",
       "146004         Spain  28.10.1984   176.0    67.0        Center Forward      1   \n",
       "146005       England  20.05.1982   197.0    87.0            Goalkeeper      1   \n",
       "146006       Germany  16.09.1980   180.0    78.0         Left Fullback      1   \n",
       "146007       Germany  11.02.1983   176.0    74.0  Attacking Midfielder      1   \n",
       "146008       England  01.10.1986   188.0    79.0           Left Winger      1   \n",
       "146009       England  21.09.1979   188.0    95.0           Center Back      3   \n",
       "146010       England  06.08.1983   183.0    71.0          Right Winger      1   \n",
       "146011       England  13.05.1993   193.0    95.0        Center Forward      1   \n",
       "146012       England  06.06.1985   178.0    70.0      Right Midfielder      1   \n",
       "146013       Germany  21.06.1987   194.0    85.0           Center Back      1   \n",
       "146014       England  24.01.1983   173.0    69.0       Left Midfielder      2   \n",
       "146015       England  25.10.1981   168.0    64.0          Right Winger      1   \n",
       "146016       England  20.04.1976   188.0    84.0            Goalkeeper      3   \n",
       "146017       England  12.10.1981   191.0    84.0                   NaN      1   \n",
       "146018       Germany  03.02.1989   191.0    88.0           Center Back      1   \n",
       "146019       England  23.01.1986   188.0    81.0                   NaN      1   \n",
       "146020       Germany  11.12.1976   186.0    79.0  Defensive Midfielder      1   \n",
       "146021       England  21.07.1981   187.0    87.0           Center Back      1   \n",
       "146022       England  28.12.1986   188.0    80.0  Defensive Midfielder      1   \n",
       "146023       England  04.10.1980   178.0    67.0  Attacking Midfielder      1   \n",
       "146024       England  03.07.1988   190.0    87.0           Center Back      1   \n",
       "146025       Germany  10.10.1991   169.0    72.0       Left Midfielder      1   \n",
       "146026       England  12.07.1990   173.0     NaN           Left Winger      1   \n",
       "146027       Germany  14.12.1978   174.0    72.0        Right Fullback      1   \n",
       "\n",
       "        victories      ...       refCountry  Alpha_3   meanIAT   nIAT  \\\n",
       "0               0      ...                1      GRC  0.326391  712.0   \n",
       "1               0      ...                2      ZMB  0.203375   40.0   \n",
       "5               0      ...                4      LUX  0.325185  127.0   \n",
       "6               1      ...                4      LUX  0.325185  127.0   \n",
       "7               0      ...                4      LUX  0.325185  127.0   \n",
       "8               0      ...                4      LUX  0.325185  127.0   \n",
       "9               1      ...                4      LUX  0.325185  127.0   \n",
       "10              2      ...                4      LUX  0.325185  127.0   \n",
       "11              1      ...                4      LUX  0.325185  127.0   \n",
       "12              1      ...                4      LUX  0.325185  127.0   \n",
       "13              0      ...                4      LUX  0.325185  127.0   \n",
       "14              0      ...                4      LUX  0.325185  127.0   \n",
       "15              1      ...                4      LUX  0.325185  127.0   \n",
       "16              1      ...                4      LUX  0.325185  127.0   \n",
       "17              0      ...                4      LUX  0.325185  127.0   \n",
       "18              0      ...                4      LUX  0.325185  127.0   \n",
       "19              1      ...                4      LUX  0.325185  127.0   \n",
       "20              0      ...                4      LUX  0.325185  127.0   \n",
       "21              1      ...                4      LUX  0.325185  127.0   \n",
       "22              0      ...                4      LUX  0.325185  127.0   \n",
       "23              0      ...                4      LUX  0.325185  127.0   \n",
       "24              1      ...                4      LUX  0.325185  127.0   \n",
       "25              1      ...                4      LUX  0.325185  127.0   \n",
       "26              1      ...                4      LUX  0.325185  127.0   \n",
       "27              1      ...                4      LUX  0.325185  127.0   \n",
       "28              2      ...                4      LUX  0.325185  127.0   \n",
       "29              2      ...                4      LUX  0.325185  127.0   \n",
       "30              1      ...                4      LUX  0.325185  127.0   \n",
       "31              1      ...                4      LUX  0.325185  127.0   \n",
       "32              0      ...                4      LUX  0.325185  127.0   \n",
       "...           ...      ...              ...      ...       ...    ...   \n",
       "145998          0      ...               21      HUN  0.376127  574.0   \n",
       "145999          1      ...               21      HUN  0.376127  574.0   \n",
       "146000          0      ...               21      HUN  0.376127  574.0   \n",
       "146001          1      ...               21      HUN  0.376127  574.0   \n",
       "146002          1      ...               21      HUN  0.376127  574.0   \n",
       "146003          0      ...               21      HUN  0.376127  574.0   \n",
       "146004          1      ...               21      HUN  0.376127  574.0   \n",
       "146005          1      ...               21      HUN  0.376127  574.0   \n",
       "146006          0      ...               21      HUN  0.376127  574.0   \n",
       "146007          1      ...               21      HUN  0.376127  574.0   \n",
       "146008          1      ...               21      HUN  0.376127  574.0   \n",
       "146009          3      ...               21      HUN  0.376127  574.0   \n",
       "146010          1      ...               21      HUN  0.376127  574.0   \n",
       "146011          1      ...               21      HUN  0.376127  574.0   \n",
       "146012          0      ...               21      HUN  0.376127  574.0   \n",
       "146013          0      ...               21      HUN  0.376127  574.0   \n",
       "146014          1      ...               21      HUN  0.376127  574.0   \n",
       "146015          1      ...               21      HUN  0.376127  574.0   \n",
       "146016          3      ...               21      HUN  0.376127  574.0   \n",
       "146017          1      ...               21      HUN  0.376127  574.0   \n",
       "146018          1      ...               21      HUN  0.376127  574.0   \n",
       "146019          1      ...               21      HUN  0.376127  574.0   \n",
       "146020          1      ...               21      HUN  0.376127  574.0   \n",
       "146021          1      ...               21      HUN  0.376127  574.0   \n",
       "146022          0      ...               21      HUN  0.376127  574.0   \n",
       "146023          1      ...               21      HUN  0.376127  574.0   \n",
       "146024          0      ...               21      HUN  0.376127  574.0   \n",
       "146025          1      ...               21      HUN  0.376127  574.0   \n",
       "146026          0      ...               21      HUN  0.376127  574.0   \n",
       "146027          0      ...               21      HUN  0.376127  574.0   \n",
       "\n",
       "           seIAT   meanExp   nExp     seExp   skin  position_agg  \n",
       "0       0.000564  0.396000  750.0  0.002696  0.375       Forward  \n",
       "1       0.010875 -0.204082   49.0  0.061504  0.750       Forward  \n",
       "5       0.003297  0.538462  130.0  0.013752  0.125       Defense  \n",
       "6       0.003297  0.538462  130.0  0.013752  0.125       Defense  \n",
       "7       0.003297  0.538462  130.0  0.013752  1.000       Defense  \n",
       "8       0.003297  0.538462  130.0  0.013752  0.250        Keeper  \n",
       "9       0.003297  0.538462  130.0  0.013752  0.000       Defense  \n",
       "10      0.003297  0.538462  130.0  0.013752  0.000       Defense  \n",
       "11      0.003297  0.538462  130.0  0.013752  0.500       Forward  \n",
       "12      0.003297  0.538462  130.0  0.013752  0.000       Defense  \n",
       "13      0.003297  0.538462  130.0  0.013752  0.000       Defense  \n",
       "14      0.003297  0.538462  130.0  0.013752  0.125           NaN  \n",
       "15      0.003297  0.538462  130.0  0.013752  0.000       Defense  \n",
       "16      0.003297  0.538462  130.0  0.013752  0.500       Defense  \n",
       "17      0.003297  0.538462  130.0  0.013752  0.000       Defense  \n",
       "18      0.003297  0.538462  130.0  0.013752  0.000       Forward  \n",
       "19      0.003297  0.538462  130.0  0.013752  0.125       Defense  \n",
       "20      0.003297  0.538462  130.0  0.013752  0.125       Forward  \n",
       "21      0.003297  0.538462  130.0  0.013752  0.000       Forward  \n",
       "22      0.003297  0.538462  130.0  0.013752  0.000       Defense  \n",
       "23      0.003297  0.538462  130.0  0.013752  0.000       Defense  \n",
       "24      0.003297  0.538462  130.0  0.013752  0.125       Forward  \n",
       "25      0.003297  0.538462  130.0  0.013752  0.250       Defense  \n",
       "26      0.003297  0.538462  130.0  0.013752  0.125       Forward  \n",
       "27      0.003297  0.538462  130.0  0.013752  0.125       Defense  \n",
       "28      0.003297  0.538462  130.0  0.013752  0.000       Defense  \n",
       "29      0.003297  0.538462  130.0  0.013752  0.125       Defense  \n",
       "30      0.003297  0.538462  130.0  0.013752  0.000      Midfield  \n",
       "31      0.003297  0.538462  130.0  0.013752  0.000        Keeper  \n",
       "32      0.003297  0.538462  130.0  0.013752  0.000       Defense  \n",
       "...          ...       ...    ...       ...    ...           ...  \n",
       "145998  0.000714  0.498350  606.0  0.002968  1.000       Defense  \n",
       "145999  0.000714  0.498350  606.0  0.002968  0.500       Forward  \n",
       "146000  0.000714  0.498350  606.0  0.002968  0.875       Defense  \n",
       "146001  0.000714  0.498350  606.0  0.002968  0.250       Forward  \n",
       "146002  0.000714  0.498350  606.0  0.002968  0.250       Defense  \n",
       "146003  0.000714  0.498350  606.0  0.002968  0.000       Defense  \n",
       "146004  0.000714  0.498350  606.0  0.002968  1.000       Forward  \n",
       "146005  0.000714  0.498350  606.0  0.002968  0.250        Keeper  \n",
       "146006  0.000714  0.498350  606.0  0.002968  0.125       Defense  \n",
       "146007  0.000714  0.498350  606.0  0.002968  0.125       Forward  \n",
       "146008  0.000714  0.498350  606.0  0.002968  0.625       Forward  \n",
       "146009  0.000714  0.498350  606.0  0.002968  0.000       Defense  \n",
       "146010  0.000714  0.498350  606.0  0.002968  0.250       Forward  \n",
       "146011  0.000714  0.498350  606.0  0.002968  0.750       Forward  \n",
       "146012  0.000714  0.498350  606.0  0.002968  0.000      Midfield  \n",
       "146013  0.000714  0.498350  606.0  0.002968  0.125       Defense  \n",
       "146014  0.000714  0.498350  606.0  0.002968  0.125      Midfield  \n",
       "146015  0.000714  0.498350  606.0  0.002968  1.000       Forward  \n",
       "146016  0.000714  0.498350  606.0  0.002968  0.000        Keeper  \n",
       "146017  0.000714  0.498350  606.0  0.002968  1.000           NaN  \n",
       "146018  0.000714  0.498350  606.0  0.002968  0.000       Defense  \n",
       "146019  0.000714  0.498350  606.0  0.002968  0.125           NaN  \n",
       "146020  0.000714  0.498350  606.0  0.002968  0.000       Defense  \n",
       "146021  0.000714  0.498350  606.0  0.002968  0.875       Defense  \n",
       "146022  0.000714  0.498350  606.0  0.002968  0.500       Defense  \n",
       "146023  0.000714  0.498350  606.0  0.002968  0.000       Forward  \n",
       "146024  0.000714  0.498350  606.0  0.002968  0.375       Defense  \n",
       "146025  0.000714  0.498350  606.0  0.002968  0.250      Midfield  \n",
       "146026  0.000714  0.498350  606.0  0.002968  0.500       Forward  \n",
       "146027  0.000714  0.498350  606.0  0.002968  0.125       Defense  \n",
       "\n",
       "[124621 rows x 30 columns]>"
      ]
     },
     "execution_count": 23,
     "metadata": {},
     "output_type": "execute_result"
    }
   ],
   "source": [
    "df.head"
   ]
  },
  {
   "cell_type": "code",
   "execution_count": 27,
   "metadata": {},
   "outputs": [
    {
     "data": {
      "text/plain": [
       "0    123056\n",
       "1      1541\n",
       "2        24\n",
       "Name: redCards, dtype: int64"
      ]
     },
     "execution_count": 27,
     "metadata": {},
     "output_type": "execute_result"
    }
   ],
   "source": [
    "df.redCards.value_counts()"
   ]
  },
  {
   "cell_type": "code",
   "execution_count": 28,
   "metadata": {},
   "outputs": [
    {
     "name": "stdout",
     "output_type": "stream",
     "text": [
      "% of players with multiple refs: 0.9873\n",
      "% of refs with multiple players: 0.9761\n"
     ]
    }
   ],
   "source": [
    "# Almost all of the players appear with more than one referee\n",
    "print('% of players with multiple refs: {:.4f}'.format(sum(df.playerShort.duplicated())/df.shape[0]))\n",
    "# The same (but to a slightly lesser degree) is true for refs\n",
    "print('% of refs with multiple players: {:.4f}'.format(sum(df.refNum.duplicated())/df.shape[0]))"
   ]
  },
  {
   "cell_type": "code",
   "execution_count": 30,
   "metadata": {},
   "outputs": [],
   "source": [
    "# Store categorical data as the appropriate data type\n",
    "categorical_features = ['playerShort','club','leagueCountry','position','refNum','refCountry']\n",
    "df[categorical_features] = df[categorical_features].astype('category')"
   ]
  },
  {
   "cell_type": "markdown",
   "metadata": {},
   "source": [
    "## Feature sleection/engineering\n",
    "Generally speaking we would like to reduce the number of features to the bare minimum needed to explain the data.\n",
    "\n",
    "First of all, as we saw, the skin tone scores from both raters are hgihly correlated so we can average them. We make a copy of the data frame so we don't breat anything"
   ]
  },
  {
   "cell_type": "markdown",
   "metadata": {},
   "source": [
    "We would like to drop the full names of players as this provides little information of use, we should first verify that that the player short names are unique "
   ]
  },
  {
   "cell_type": "code",
   "execution_count": 29,
   "metadata": {},
   "outputs": [
    {
     "name": "stdout",
     "output_type": "stream",
     "text": [
      "1:1 mapping\n"
     ]
    }
   ],
   "source": [
    "# Confirm that there is a 1:1 mapping from short to full name before dropping full name\n",
    "flag_non_unique = False\n",
    "for player_short in df.playerShort.unique():\n",
    "    if df.player[df.playerShort==player_short].nunique() != 1:\n",
    "        print('{} maps to multiple values'.format(player_short))\n",
    "        flag_non_unique = True\n",
    "if not flag_non_unique:\n",
    "    print('1:1 mapping')\n"
   ]
  },
  {
   "cell_type": "code",
   "execution_count": 31,
   "metadata": {},
   "outputs": [
    {
     "data": {
      "text/html": [
       "<div>\n",
       "<style scoped>\n",
       "    .dataframe tbody tr th:only-of-type {\n",
       "        vertical-align: middle;\n",
       "    }\n",
       "\n",
       "    .dataframe tbody tr th {\n",
       "        vertical-align: top;\n",
       "    }\n",
       "\n",
       "    .dataframe thead th {\n",
       "        text-align: right;\n",
       "    }\n",
       "</style>\n",
       "<table border=\"1\" class=\"dataframe\">\n",
       "  <thead>\n",
       "    <tr style=\"text-align: right;\">\n",
       "      <th></th>\n",
       "      <th>playerShort</th>\n",
       "      <th>player</th>\n",
       "      <th>club</th>\n",
       "      <th>leagueCountry</th>\n",
       "      <th>birthday</th>\n",
       "      <th>height</th>\n",
       "      <th>weight</th>\n",
       "      <th>position</th>\n",
       "      <th>games</th>\n",
       "      <th>victories</th>\n",
       "      <th>...</th>\n",
       "      <th>Alpha_3</th>\n",
       "      <th>meanIAT</th>\n",
       "      <th>nIAT</th>\n",
       "      <th>seIAT</th>\n",
       "      <th>meanExp</th>\n",
       "      <th>nExp</th>\n",
       "      <th>seExp</th>\n",
       "      <th>skin</th>\n",
       "      <th>position_agg</th>\n",
       "      <th>total_reds</th>\n",
       "    </tr>\n",
       "  </thead>\n",
       "  <tbody>\n",
       "    <tr>\n",
       "      <th>0</th>\n",
       "      <td>lucas-wilchez</td>\n",
       "      <td>Lucas Wilchez</td>\n",
       "      <td>Real Zaragoza</td>\n",
       "      <td>Spain</td>\n",
       "      <td>31.08.1983</td>\n",
       "      <td>177.0</td>\n",
       "      <td>72.0</td>\n",
       "      <td>Attacking Midfielder</td>\n",
       "      <td>1</td>\n",
       "      <td>0</td>\n",
       "      <td>...</td>\n",
       "      <td>GRC</td>\n",
       "      <td>0.326391</td>\n",
       "      <td>712.0</td>\n",
       "      <td>0.000564</td>\n",
       "      <td>0.396000</td>\n",
       "      <td>750.0</td>\n",
       "      <td>0.002696</td>\n",
       "      <td>0.375</td>\n",
       "      <td>Forward</td>\n",
       "      <td>0.0</td>\n",
       "    </tr>\n",
       "    <tr>\n",
       "      <th>1</th>\n",
       "      <td>john-utaka</td>\n",
       "      <td>John Utaka</td>\n",
       "      <td>Montpellier HSC</td>\n",
       "      <td>France</td>\n",
       "      <td>08.01.1982</td>\n",
       "      <td>179.0</td>\n",
       "      <td>82.0</td>\n",
       "      <td>Right Winger</td>\n",
       "      <td>1</td>\n",
       "      <td>0</td>\n",
       "      <td>...</td>\n",
       "      <td>ZMB</td>\n",
       "      <td>0.203375</td>\n",
       "      <td>40.0</td>\n",
       "      <td>0.010875</td>\n",
       "      <td>-0.204082</td>\n",
       "      <td>49.0</td>\n",
       "      <td>0.061504</td>\n",
       "      <td>0.750</td>\n",
       "      <td>Forward</td>\n",
       "      <td>0.0</td>\n",
       "    </tr>\n",
       "    <tr>\n",
       "      <th>5</th>\n",
       "      <td>aaron-hughes</td>\n",
       "      <td>Aaron Hughes</td>\n",
       "      <td>Fulham FC</td>\n",
       "      <td>England</td>\n",
       "      <td>08.11.1979</td>\n",
       "      <td>182.0</td>\n",
       "      <td>71.0</td>\n",
       "      <td>Center Back</td>\n",
       "      <td>1</td>\n",
       "      <td>0</td>\n",
       "      <td>...</td>\n",
       "      <td>LUX</td>\n",
       "      <td>0.325185</td>\n",
       "      <td>127.0</td>\n",
       "      <td>0.003297</td>\n",
       "      <td>0.538462</td>\n",
       "      <td>130.0</td>\n",
       "      <td>0.013752</td>\n",
       "      <td>0.125</td>\n",
       "      <td>Defense</td>\n",
       "      <td>0.0</td>\n",
       "    </tr>\n",
       "    <tr>\n",
       "      <th>6</th>\n",
       "      <td>aleksandar-kolarov</td>\n",
       "      <td>Aleksandar Kolarov</td>\n",
       "      <td>Manchester City</td>\n",
       "      <td>England</td>\n",
       "      <td>10.11.1985</td>\n",
       "      <td>187.0</td>\n",
       "      <td>80.0</td>\n",
       "      <td>Left Fullback</td>\n",
       "      <td>1</td>\n",
       "      <td>1</td>\n",
       "      <td>...</td>\n",
       "      <td>LUX</td>\n",
       "      <td>0.325185</td>\n",
       "      <td>127.0</td>\n",
       "      <td>0.003297</td>\n",
       "      <td>0.538462</td>\n",
       "      <td>130.0</td>\n",
       "      <td>0.013752</td>\n",
       "      <td>0.125</td>\n",
       "      <td>Defense</td>\n",
       "      <td>0.0</td>\n",
       "    </tr>\n",
       "    <tr>\n",
       "      <th>7</th>\n",
       "      <td>alexander-tettey</td>\n",
       "      <td>Alexander Tettey</td>\n",
       "      <td>Norwich City</td>\n",
       "      <td>England</td>\n",
       "      <td>04.04.1986</td>\n",
       "      <td>180.0</td>\n",
       "      <td>68.0</td>\n",
       "      <td>Defensive Midfielder</td>\n",
       "      <td>1</td>\n",
       "      <td>0</td>\n",
       "      <td>...</td>\n",
       "      <td>LUX</td>\n",
       "      <td>0.325185</td>\n",
       "      <td>127.0</td>\n",
       "      <td>0.003297</td>\n",
       "      <td>0.538462</td>\n",
       "      <td>130.0</td>\n",
       "      <td>0.013752</td>\n",
       "      <td>1.000</td>\n",
       "      <td>Defense</td>\n",
       "      <td>0.0</td>\n",
       "    </tr>\n",
       "  </tbody>\n",
       "</table>\n",
       "<p>5 rows × 31 columns</p>\n",
       "</div>"
      ],
      "text/plain": [
       "          playerShort              player             club leagueCountry  \\\n",
       "0       lucas-wilchez       Lucas Wilchez    Real Zaragoza         Spain   \n",
       "1          john-utaka          John Utaka  Montpellier HSC        France   \n",
       "5        aaron-hughes        Aaron Hughes        Fulham FC       England   \n",
       "6  aleksandar-kolarov  Aleksandar Kolarov  Manchester City       England   \n",
       "7    alexander-tettey    Alexander Tettey     Norwich City       England   \n",
       "\n",
       "     birthday  height  weight              position  games  victories  \\\n",
       "0  31.08.1983   177.0    72.0  Attacking Midfielder      1          0   \n",
       "1  08.01.1982   179.0    82.0          Right Winger      1          0   \n",
       "5  08.11.1979   182.0    71.0           Center Back      1          0   \n",
       "6  10.11.1985   187.0    80.0         Left Fullback      1          1   \n",
       "7  04.04.1986   180.0    68.0  Defensive Midfielder      1          0   \n",
       "\n",
       "     ...      Alpha_3   meanIAT   nIAT     seIAT   meanExp   nExp     seExp  \\\n",
       "0    ...          GRC  0.326391  712.0  0.000564  0.396000  750.0  0.002696   \n",
       "1    ...          ZMB  0.203375   40.0  0.010875 -0.204082   49.0  0.061504   \n",
       "5    ...          LUX  0.325185  127.0  0.003297  0.538462  130.0  0.013752   \n",
       "6    ...          LUX  0.325185  127.0  0.003297  0.538462  130.0  0.013752   \n",
       "7    ...          LUX  0.325185  127.0  0.003297  0.538462  130.0  0.013752   \n",
       "\n",
       "    skin  position_agg total_reds  \n",
       "0  0.375       Forward        0.0  \n",
       "1  0.750       Forward        0.0  \n",
       "5  0.125       Defense        0.0  \n",
       "6  0.125       Defense        0.0  \n",
       "7  1.000       Defense        0.0  \n",
       "\n",
       "[5 rows x 31 columns]"
      ]
     },
     "execution_count": 31,
     "metadata": {},
     "output_type": "execute_result"
    }
   ],
   "source": [
    "df.head()"
   ]
  },
  {
   "cell_type": "markdown",
   "metadata": {},
   "source": [
    "Select features to drop"
   ]
  },
  {
   "cell_type": "code",
   "execution_count": 33,
   "metadata": {},
   "outputs": [],
   "source": [
    "features_to_drop = ['player','birthday','photoID','yellowCards','rater1','rater2','yellowReds','redCards','games',\\\n",
    "                   'Alpha_3','nIAT','seIAT','nExp','seExp','playerShort','refCountry']\n",
    "# features_to_drop = ['player','birthday','photoID','rater1','rater2','games',\\\n",
    "#                    'Alpha_3','nIAT','seIAT','nExp','seExp','playerShort','refCountry']\n",
    "df_ = df.drop(features_to_drop,axis=1)"
   ]
  },
  {
   "cell_type": "markdown",
   "metadata": {},
   "source": [
    "## Quick QA\n",
    "Just check the shape of returned data frame and some histograms to verify that the data is still good"
   ]
  },
  {
   "cell_type": "code",
   "execution_count": 34,
   "metadata": {},
   "outputs": [
    {
     "data": {
      "text/html": [
       "<div>\n",
       "<style scoped>\n",
       "    .dataframe tbody tr th:only-of-type {\n",
       "        vertical-align: middle;\n",
       "    }\n",
       "\n",
       "    .dataframe tbody tr th {\n",
       "        vertical-align: top;\n",
       "    }\n",
       "\n",
       "    .dataframe thead th {\n",
       "        text-align: right;\n",
       "    }\n",
       "</style>\n",
       "<table border=\"1\" class=\"dataframe\">\n",
       "  <thead>\n",
       "    <tr style=\"text-align: right;\">\n",
       "      <th></th>\n",
       "      <th>club</th>\n",
       "      <th>leagueCountry</th>\n",
       "      <th>height</th>\n",
       "      <th>weight</th>\n",
       "      <th>position</th>\n",
       "      <th>victories</th>\n",
       "      <th>ties</th>\n",
       "      <th>defeats</th>\n",
       "      <th>goals</th>\n",
       "      <th>refNum</th>\n",
       "      <th>meanIAT</th>\n",
       "      <th>meanExp</th>\n",
       "      <th>skin</th>\n",
       "      <th>position_agg</th>\n",
       "      <th>total_reds</th>\n",
       "    </tr>\n",
       "  </thead>\n",
       "  <tbody>\n",
       "    <tr>\n",
       "      <th>0</th>\n",
       "      <td>Real Zaragoza</td>\n",
       "      <td>Spain</td>\n",
       "      <td>177.0</td>\n",
       "      <td>72.0</td>\n",
       "      <td>Attacking Midfielder</td>\n",
       "      <td>0</td>\n",
       "      <td>0</td>\n",
       "      <td>1</td>\n",
       "      <td>0</td>\n",
       "      <td>1</td>\n",
       "      <td>0.326391</td>\n",
       "      <td>0.396000</td>\n",
       "      <td>0.375</td>\n",
       "      <td>Forward</td>\n",
       "      <td>0.0</td>\n",
       "    </tr>\n",
       "    <tr>\n",
       "      <th>1</th>\n",
       "      <td>Montpellier HSC</td>\n",
       "      <td>France</td>\n",
       "      <td>179.0</td>\n",
       "      <td>82.0</td>\n",
       "      <td>Right Winger</td>\n",
       "      <td>0</td>\n",
       "      <td>0</td>\n",
       "      <td>1</td>\n",
       "      <td>0</td>\n",
       "      <td>2</td>\n",
       "      <td>0.203375</td>\n",
       "      <td>-0.204082</td>\n",
       "      <td>0.750</td>\n",
       "      <td>Forward</td>\n",
       "      <td>0.0</td>\n",
       "    </tr>\n",
       "    <tr>\n",
       "      <th>5</th>\n",
       "      <td>Fulham FC</td>\n",
       "      <td>England</td>\n",
       "      <td>182.0</td>\n",
       "      <td>71.0</td>\n",
       "      <td>Center Back</td>\n",
       "      <td>0</td>\n",
       "      <td>0</td>\n",
       "      <td>1</td>\n",
       "      <td>0</td>\n",
       "      <td>4</td>\n",
       "      <td>0.325185</td>\n",
       "      <td>0.538462</td>\n",
       "      <td>0.125</td>\n",
       "      <td>Defense</td>\n",
       "      <td>0.0</td>\n",
       "    </tr>\n",
       "    <tr>\n",
       "      <th>6</th>\n",
       "      <td>Manchester City</td>\n",
       "      <td>England</td>\n",
       "      <td>187.0</td>\n",
       "      <td>80.0</td>\n",
       "      <td>Left Fullback</td>\n",
       "      <td>1</td>\n",
       "      <td>0</td>\n",
       "      <td>0</td>\n",
       "      <td>0</td>\n",
       "      <td>4</td>\n",
       "      <td>0.325185</td>\n",
       "      <td>0.538462</td>\n",
       "      <td>0.125</td>\n",
       "      <td>Defense</td>\n",
       "      <td>0.0</td>\n",
       "    </tr>\n",
       "    <tr>\n",
       "      <th>7</th>\n",
       "      <td>Norwich City</td>\n",
       "      <td>England</td>\n",
       "      <td>180.0</td>\n",
       "      <td>68.0</td>\n",
       "      <td>Defensive Midfielder</td>\n",
       "      <td>0</td>\n",
       "      <td>0</td>\n",
       "      <td>1</td>\n",
       "      <td>0</td>\n",
       "      <td>4</td>\n",
       "      <td>0.325185</td>\n",
       "      <td>0.538462</td>\n",
       "      <td>1.000</td>\n",
       "      <td>Defense</td>\n",
       "      <td>0.0</td>\n",
       "    </tr>\n",
       "  </tbody>\n",
       "</table>\n",
       "</div>"
      ],
      "text/plain": [
       "              club leagueCountry  height  weight              position  \\\n",
       "0    Real Zaragoza         Spain   177.0    72.0  Attacking Midfielder   \n",
       "1  Montpellier HSC        France   179.0    82.0          Right Winger   \n",
       "5        Fulham FC       England   182.0    71.0           Center Back   \n",
       "6  Manchester City       England   187.0    80.0         Left Fullback   \n",
       "7     Norwich City       England   180.0    68.0  Defensive Midfielder   \n",
       "\n",
       "   victories  ties  defeats  goals refNum   meanIAT   meanExp   skin  \\\n",
       "0          0     0        1      0      1  0.326391  0.396000  0.375   \n",
       "1          0     0        1      0      2  0.203375 -0.204082  0.750   \n",
       "5          0     0        1      0      4  0.325185  0.538462  0.125   \n",
       "6          1     0        0      0      4  0.325185  0.538462  0.125   \n",
       "7          0     0        1      0      4  0.325185  0.538462  1.000   \n",
       "\n",
       "  position_agg  total_reds  \n",
       "0      Forward         0.0  \n",
       "1      Forward         0.0  \n",
       "5      Defense         0.0  \n",
       "6      Defense         0.0  \n",
       "7      Defense         0.0  "
      ]
     },
     "execution_count": 34,
     "metadata": {},
     "output_type": "execute_result"
    }
   ],
   "source": [
    "df_.shape\n",
    "df_.head()"
   ]
  },
  {
   "cell_type": "code",
   "execution_count": 35,
   "metadata": {},
   "outputs": [
    {
     "data": {
      "text/html": [
       "<div>\n",
       "<style scoped>\n",
       "    .dataframe tbody tr th:only-of-type {\n",
       "        vertical-align: middle;\n",
       "    }\n",
       "\n",
       "    .dataframe tbody tr th {\n",
       "        vertical-align: top;\n",
       "    }\n",
       "\n",
       "    .dataframe thead th {\n",
       "        text-align: right;\n",
       "    }\n",
       "</style>\n",
       "<table border=\"1\" class=\"dataframe\">\n",
       "  <thead>\n",
       "    <tr style=\"text-align: right;\">\n",
       "      <th></th>\n",
       "      <th>height</th>\n",
       "      <th>weight</th>\n",
       "      <th>victories</th>\n",
       "      <th>ties</th>\n",
       "      <th>defeats</th>\n",
       "      <th>goals</th>\n",
       "      <th>meanIAT</th>\n",
       "      <th>meanExp</th>\n",
       "      <th>skin</th>\n",
       "      <th>total_reds</th>\n",
       "    </tr>\n",
       "  </thead>\n",
       "  <tbody>\n",
       "    <tr>\n",
       "      <th>count</th>\n",
       "      <td>124575.000000</td>\n",
       "      <td>123868.000000</td>\n",
       "      <td>124621.000000</td>\n",
       "      <td>124621.000000</td>\n",
       "      <td>124621.000000</td>\n",
       "      <td>124621.000000</td>\n",
       "      <td>124468.000000</td>\n",
       "      <td>124468.000000</td>\n",
       "      <td>124621.000000</td>\n",
       "      <td>124621.000000</td>\n",
       "    </tr>\n",
       "    <tr>\n",
       "      <th>mean</th>\n",
       "      <td>182.125330</td>\n",
       "      <td>76.368102</td>\n",
       "      <td>1.342663</td>\n",
       "      <td>0.714968</td>\n",
       "      <td>0.935982</td>\n",
       "      <td>0.353432</td>\n",
       "      <td>0.348123</td>\n",
       "      <td>0.463797</td>\n",
       "      <td>0.283559</td>\n",
       "      <td>0.008357</td>\n",
       "    </tr>\n",
       "    <tr>\n",
       "      <th>std</th>\n",
       "      <td>6.804843</td>\n",
       "      <td>7.188595</td>\n",
       "      <td>1.879913</td>\n",
       "      <td>1.143873</td>\n",
       "      <td>1.422906</td>\n",
       "      <td>0.944250</td>\n",
       "      <td>0.032087</td>\n",
       "      <td>0.219206</td>\n",
       "      <td>0.288517</td>\n",
       "      <td>0.072909</td>\n",
       "    </tr>\n",
       "    <tr>\n",
       "      <th>min</th>\n",
       "      <td>161.000000</td>\n",
       "      <td>54.000000</td>\n",
       "      <td>0.000000</td>\n",
       "      <td>0.000000</td>\n",
       "      <td>0.000000</td>\n",
       "      <td>0.000000</td>\n",
       "      <td>-0.047254</td>\n",
       "      <td>-1.375000</td>\n",
       "      <td>0.000000</td>\n",
       "      <td>0.000000</td>\n",
       "    </tr>\n",
       "    <tr>\n",
       "      <th>25%</th>\n",
       "      <td>178.000000</td>\n",
       "      <td>71.000000</td>\n",
       "      <td>0.000000</td>\n",
       "      <td>0.000000</td>\n",
       "      <td>0.000000</td>\n",
       "      <td>0.000000</td>\n",
       "      <td>0.334684</td>\n",
       "      <td>0.336101</td>\n",
       "      <td>0.000000</td>\n",
       "      <td>0.000000</td>\n",
       "    </tr>\n",
       "    <tr>\n",
       "      <th>50%</th>\n",
       "      <td>183.000000</td>\n",
       "      <td>76.000000</td>\n",
       "      <td>1.000000</td>\n",
       "      <td>0.000000</td>\n",
       "      <td>1.000000</td>\n",
       "      <td>0.000000</td>\n",
       "      <td>0.336628</td>\n",
       "      <td>0.356446</td>\n",
       "      <td>0.250000</td>\n",
       "      <td>0.000000</td>\n",
       "    </tr>\n",
       "    <tr>\n",
       "      <th>75%</th>\n",
       "      <td>187.000000</td>\n",
       "      <td>81.000000</td>\n",
       "      <td>2.000000</td>\n",
       "      <td>1.000000</td>\n",
       "      <td>1.000000</td>\n",
       "      <td>0.000000</td>\n",
       "      <td>0.369894</td>\n",
       "      <td>0.588297</td>\n",
       "      <td>0.375000</td>\n",
       "      <td>0.000000</td>\n",
       "    </tr>\n",
       "    <tr>\n",
       "      <th>max</th>\n",
       "      <td>203.000000</td>\n",
       "      <td>100.000000</td>\n",
       "      <td>29.000000</td>\n",
       "      <td>14.000000</td>\n",
       "      <td>18.000000</td>\n",
       "      <td>23.000000</td>\n",
       "      <td>0.573793</td>\n",
       "      <td>1.800000</td>\n",
       "      <td>1.000000</td>\n",
       "      <td>1.000000</td>\n",
       "    </tr>\n",
       "  </tbody>\n",
       "</table>\n",
       "</div>"
      ],
      "text/plain": [
       "              height         weight      victories           ties  \\\n",
       "count  124575.000000  123868.000000  124621.000000  124621.000000   \n",
       "mean      182.125330      76.368102       1.342663       0.714968   \n",
       "std         6.804843       7.188595       1.879913       1.143873   \n",
       "min       161.000000      54.000000       0.000000       0.000000   \n",
       "25%       178.000000      71.000000       0.000000       0.000000   \n",
       "50%       183.000000      76.000000       1.000000       0.000000   \n",
       "75%       187.000000      81.000000       2.000000       1.000000   \n",
       "max       203.000000     100.000000      29.000000      14.000000   \n",
       "\n",
       "             defeats          goals        meanIAT        meanExp  \\\n",
       "count  124621.000000  124621.000000  124468.000000  124468.000000   \n",
       "mean        0.935982       0.353432       0.348123       0.463797   \n",
       "std         1.422906       0.944250       0.032087       0.219206   \n",
       "min         0.000000       0.000000      -0.047254      -1.375000   \n",
       "25%         0.000000       0.000000       0.334684       0.336101   \n",
       "50%         1.000000       0.000000       0.336628       0.356446   \n",
       "75%         1.000000       0.000000       0.369894       0.588297   \n",
       "max        18.000000      23.000000       0.573793       1.800000   \n",
       "\n",
       "                skin     total_reds  \n",
       "count  124621.000000  124621.000000  \n",
       "mean        0.283559       0.008357  \n",
       "std         0.288517       0.072909  \n",
       "min         0.000000       0.000000  \n",
       "25%         0.000000       0.000000  \n",
       "50%         0.250000       0.000000  \n",
       "75%         0.375000       0.000000  \n",
       "max         1.000000       1.000000  "
      ]
     },
     "execution_count": 35,
     "metadata": {},
     "output_type": "execute_result"
    }
   ],
   "source": [
    "df_.describe()"
   ]
  },
  {
   "cell_type": "code",
   "execution_count": 37,
   "metadata": {},
   "outputs": [
    {
     "data": {
      "image/png": "[encoded data removed]",
      "text/plain": [
       "<Figure size 720x720 with 12 Axes>"
      ]
     },
     "metadata": {},
     "output_type": "display_data"
    }
   ],
   "source": [
    "# Check distribution of numerical variables\n",
    "_ = df_.select_dtypes(['float64', 'int64']).hist(figsize=(10,10))"
   ]
  },
  {
   "cell_type": "markdown",
   "metadata": {},
   "source": [
    "This all looks fine. Even the weight, with a max of exactly 100 kg, looks right"
   ]
  },
  {
   "cell_type": "code",
   "execution_count": 39,
   "metadata": {},
   "outputs": [
    {
     "data": {
      "text/html": [
       "<div>\n",
       "<style scoped>\n",
       "    .dataframe tbody tr th:only-of-type {\n",
       "        vertical-align: middle;\n",
       "    }\n",
       "\n",
       "    .dataframe tbody tr th {\n",
       "        vertical-align: top;\n",
       "    }\n",
       "\n",
       "    .dataframe thead th {\n",
       "        text-align: right;\n",
       "    }\n",
       "</style>\n",
       "<table border=\"1\" class=\"dataframe\">\n",
       "  <thead>\n",
       "    <tr style=\"text-align: right;\">\n",
       "      <th></th>\n",
       "      <th>height</th>\n",
       "      <th>weight</th>\n",
       "      <th>victories</th>\n",
       "      <th>ties</th>\n",
       "      <th>defeats</th>\n",
       "      <th>goals</th>\n",
       "      <th>meanIAT</th>\n",
       "      <th>meanExp</th>\n",
       "      <th>skin</th>\n",
       "      <th>total_reds</th>\n",
       "    </tr>\n",
       "  </thead>\n",
       "  <tbody>\n",
       "    <tr>\n",
       "      <th>height</th>\n",
       "      <td>1.000000</td>\n",
       "      <td>0.620378</td>\n",
       "      <td>0.000478</td>\n",
       "      <td>2.651068e-04</td>\n",
       "      <td>0.000090</td>\n",
       "      <td>0.002919</td>\n",
       "      <td>0.001453</td>\n",
       "      <td>0.002519</td>\n",
       "      <td>0.003303</td>\n",
       "      <td>6.208502e-06</td>\n",
       "    </tr>\n",
       "    <tr>\n",
       "      <th>weight</th>\n",
       "      <td>0.620378</td>\n",
       "      <td>1.000000</td>\n",
       "      <td>0.000119</td>\n",
       "      <td>2.320302e-04</td>\n",
       "      <td>0.000068</td>\n",
       "      <td>0.001625</td>\n",
       "      <td>0.000428</td>\n",
       "      <td>0.001282</td>\n",
       "      <td>0.000613</td>\n",
       "      <td>5.080898e-05</td>\n",
       "    </tr>\n",
       "    <tr>\n",
       "      <th>victories</th>\n",
       "      <td>0.000478</td>\n",
       "      <td>0.000119</td>\n",
       "      <td>1.000000</td>\n",
       "      <td>2.261499e-01</td>\n",
       "      <td>0.194613</td>\n",
       "      <td>0.205477</td>\n",
       "      <td>0.002702</td>\n",
       "      <td>0.005188</td>\n",
       "      <td>0.000269</td>\n",
       "      <td>1.815249e-04</td>\n",
       "    </tr>\n",
       "    <tr>\n",
       "      <th>ties</th>\n",
       "      <td>0.000265</td>\n",
       "      <td>0.000232</td>\n",
       "      <td>0.226150</td>\n",
       "      <td>1.000000e+00</td>\n",
       "      <td>0.225834</td>\n",
       "      <td>0.082068</td>\n",
       "      <td>0.002436</td>\n",
       "      <td>0.006393</td>\n",
       "      <td>0.000003</td>\n",
       "      <td>7.527110e-07</td>\n",
       "    </tr>\n",
       "    <tr>\n",
       "      <th>defeats</th>\n",
       "      <td>0.000090</td>\n",
       "      <td>0.000068</td>\n",
       "      <td>0.194613</td>\n",
       "      <td>2.258343e-01</td>\n",
       "      <td>1.000000</td>\n",
       "      <td>0.070329</td>\n",
       "      <td>0.003352</td>\n",
       "      <td>0.007555</td>\n",
       "      <td>0.000072</td>\n",
       "      <td>2.284940e-04</td>\n",
       "    </tr>\n",
       "    <tr>\n",
       "      <th>goals</th>\n",
       "      <td>0.002919</td>\n",
       "      <td>0.001625</td>\n",
       "      <td>0.205477</td>\n",
       "      <td>8.206823e-02</td>\n",
       "      <td>0.070329</td>\n",
       "      <td>1.000000</td>\n",
       "      <td>0.000486</td>\n",
       "      <td>0.001242</td>\n",
       "      <td>0.000117</td>\n",
       "      <td>1.116482e-04</td>\n",
       "    </tr>\n",
       "    <tr>\n",
       "      <th>meanIAT</th>\n",
       "      <td>0.001453</td>\n",
       "      <td>0.000428</td>\n",
       "      <td>0.002702</td>\n",
       "      <td>2.436152e-03</td>\n",
       "      <td>0.003352</td>\n",
       "      <td>0.000486</td>\n",
       "      <td>1.000000</td>\n",
       "      <td>0.589659</td>\n",
       "      <td>0.004197</td>\n",
       "      <td>8.979710e-05</td>\n",
       "    </tr>\n",
       "    <tr>\n",
       "      <th>meanExp</th>\n",
       "      <td>0.002519</td>\n",
       "      <td>0.001282</td>\n",
       "      <td>0.005188</td>\n",
       "      <td>6.392935e-03</td>\n",
       "      <td>0.007555</td>\n",
       "      <td>0.001242</td>\n",
       "      <td>0.589659</td>\n",
       "      <td>1.000000</td>\n",
       "      <td>0.002407</td>\n",
       "      <td>4.457222e-05</td>\n",
       "    </tr>\n",
       "    <tr>\n",
       "      <th>skin</th>\n",
       "      <td>0.003303</td>\n",
       "      <td>0.000613</td>\n",
       "      <td>0.000269</td>\n",
       "      <td>2.676897e-06</td>\n",
       "      <td>0.000072</td>\n",
       "      <td>0.000117</td>\n",
       "      <td>0.004197</td>\n",
       "      <td>0.002407</td>\n",
       "      <td>1.000000</td>\n",
       "      <td>1.033191e-04</td>\n",
       "    </tr>\n",
       "    <tr>\n",
       "      <th>total_reds</th>\n",
       "      <td>0.000006</td>\n",
       "      <td>0.000051</td>\n",
       "      <td>0.000182</td>\n",
       "      <td>7.527110e-07</td>\n",
       "      <td>0.000228</td>\n",
       "      <td>0.000112</td>\n",
       "      <td>0.000090</td>\n",
       "      <td>0.000045</td>\n",
       "      <td>0.000103</td>\n",
       "      <td>1.000000e+00</td>\n",
       "    </tr>\n",
       "  </tbody>\n",
       "</table>\n",
       "</div>"
      ],
      "text/plain": [
       "              height    weight  victories          ties   defeats     goals  \\\n",
       "height      1.000000  0.620378   0.000478  2.651068e-04  0.000090  0.002919   \n",
       "weight      0.620378  1.000000   0.000119  2.320302e-04  0.000068  0.001625   \n",
       "victories   0.000478  0.000119   1.000000  2.261499e-01  0.194613  0.205477   \n",
       "ties        0.000265  0.000232   0.226150  1.000000e+00  0.225834  0.082068   \n",
       "defeats     0.000090  0.000068   0.194613  2.258343e-01  1.000000  0.070329   \n",
       "goals       0.002919  0.001625   0.205477  8.206823e-02  0.070329  1.000000   \n",
       "meanIAT     0.001453  0.000428   0.002702  2.436152e-03  0.003352  0.000486   \n",
       "meanExp     0.002519  0.001282   0.005188  6.392935e-03  0.007555  0.001242   \n",
       "skin        0.003303  0.000613   0.000269  2.676897e-06  0.000072  0.000117   \n",
       "total_reds  0.000006  0.000051   0.000182  7.527110e-07  0.000228  0.000112   \n",
       "\n",
       "             meanIAT   meanExp      skin    total_reds  \n",
       "height      0.001453  0.002519  0.003303  6.208502e-06  \n",
       "weight      0.000428  0.001282  0.000613  5.080898e-05  \n",
       "victories   0.002702  0.005188  0.000269  1.815249e-04  \n",
       "ties        0.002436  0.006393  0.000003  7.527110e-07  \n",
       "defeats     0.003352  0.007555  0.000072  2.284940e-04  \n",
       "goals       0.000486  0.001242  0.000117  1.116482e-04  \n",
       "meanIAT     1.000000  0.589659  0.004197  8.979710e-05  \n",
       "meanExp     0.589659  1.000000  0.002407  4.457222e-05  \n",
       "skin        0.004197  0.002407  1.000000  1.033191e-04  \n",
       "total_reds  0.000090  0.000045  0.000103  1.000000e+00  "
      ]
     },
     "execution_count": 39,
     "metadata": {},
     "output_type": "execute_result"
    }
   ],
   "source": [
    "(df_.corr()**2).T"
   ]
  },
  {
   "cell_type": "markdown",
   "metadata": {},
   "source": [
    "\n",
    "At first glance it doesn't look like skin tone correlated very heavily with anything..."
   ]
  },
  {
   "cell_type": "code",
   "execution_count": 40,
   "metadata": {},
   "outputs": [],
   "source": [
    "# Get rid of unused categories\n",
    "categorical_features = df_.select_dtypes('category').columns\n",
    "df_[categorical_features] = df_[categorical_features].apply(lambda x: x.cat.remove_unused_categories())"
   ]
  },
  {
   "cell_type": "code",
   "execution_count": 42,
   "metadata": {},
   "outputs": [
    {
     "data": {
      "text/plain": [
       "club               97\n",
       "leagueCountry       4\n",
       "position           12\n",
       "refNum           2978\n",
       "dtype: int64"
      ]
     },
     "execution_count": 42,
     "metadata": {},
     "output_type": "execute_result"
    }
   ],
   "source": [
    "df_.select_dtypes('category').nunique()"
   ]
  },
  {
   "cell_type": "markdown",
   "metadata": {},
   "source": [
    "## Modelling\n",
    "Now let's see if we can use machine learning to predict establish weather or not the color of a players skin will influence the likelihood of receiving a red card.  For this we will use the readom forest implementation included in the python package [scikit-learn](http://scikit-learn.org/stable/)"
   ]
  },
  {
   "cell_type": "code",
   "execution_count": 54,
   "metadata": {},
   "outputs": [],
   "source": [
    "from sklearn.ensemble import RandomForestRegressor\n",
    "from sklearn.model_selection import RandomizedSearchCV\n",
    "from sklearn import metrics"
   ]
  },
  {
   "cell_type": "markdown",
   "metadata": {},
   "source": [
    "First we drop the entries with missing values, and drop the information regarding the ref and sprots club. We make a copy since we might want to evaluate the fairness of referees in the future."
   ]
  },
  {
   "cell_type": "code",
   "execution_count": 55,
   "metadata": {},
   "outputs": [],
   "source": [
    "df_rdm_frst = df_.dropna()\n",
    "df_rdm_frst = df_rdm_frst.drop(['refNum','club'],axis=1)"
   ]
  },
  {
   "cell_type": "code",
   "execution_count": 45,
   "metadata": {},
   "outputs": [
    {
     "data": {
      "text/plain": [
       "leagueCountry     4\n",
       "position         12\n",
       "dtype: int64"
      ]
     },
     "execution_count": 45,
     "metadata": {},
     "output_type": "execute_result"
    }
   ],
   "source": [
    "df_rdm_frst.select_dtypes('category').nunique()"
   ]
  },
  {
   "cell_type": "code",
   "execution_count": 56,
   "metadata": {},
   "outputs": [
    {
     "data": {
      "text/html": [
       "<div>\n",
       "<style scoped>\n",
       "    .dataframe tbody tr th:only-of-type {\n",
       "        vertical-align: middle;\n",
       "    }\n",
       "\n",
       "    .dataframe tbody tr th {\n",
       "        vertical-align: top;\n",
       "    }\n",
       "\n",
       "    .dataframe thead th {\n",
       "        text-align: right;\n",
       "    }\n",
       "</style>\n",
       "<table border=\"1\" class=\"dataframe\">\n",
       "  <thead>\n",
       "    <tr style=\"text-align: right;\">\n",
       "      <th></th>\n",
       "      <th>leagueCountry</th>\n",
       "      <th>height</th>\n",
       "      <th>weight</th>\n",
       "      <th>position</th>\n",
       "      <th>victories</th>\n",
       "      <th>ties</th>\n",
       "      <th>defeats</th>\n",
       "      <th>goals</th>\n",
       "      <th>meanIAT</th>\n",
       "      <th>meanExp</th>\n",
       "      <th>skin</th>\n",
       "      <th>position_agg</th>\n",
       "      <th>total_reds</th>\n",
       "    </tr>\n",
       "  </thead>\n",
       "  <tbody>\n",
       "    <tr>\n",
       "      <th>0</th>\n",
       "      <td>Spain</td>\n",
       "      <td>177.0</td>\n",
       "      <td>72.0</td>\n",
       "      <td>Attacking Midfielder</td>\n",
       "      <td>0</td>\n",
       "      <td>0</td>\n",
       "      <td>1</td>\n",
       "      <td>0</td>\n",
       "      <td>0.326391</td>\n",
       "      <td>0.396000</td>\n",
       "      <td>0.375</td>\n",
       "      <td>Forward</td>\n",
       "      <td>0.0</td>\n",
       "    </tr>\n",
       "    <tr>\n",
       "      <th>1</th>\n",
       "      <td>France</td>\n",
       "      <td>179.0</td>\n",
       "      <td>82.0</td>\n",
       "      <td>Right Winger</td>\n",
       "      <td>0</td>\n",
       "      <td>0</td>\n",
       "      <td>1</td>\n",
       "      <td>0</td>\n",
       "      <td>0.203375</td>\n",
       "      <td>-0.204082</td>\n",
       "      <td>0.750</td>\n",
       "      <td>Forward</td>\n",
       "      <td>0.0</td>\n",
       "    </tr>\n",
       "    <tr>\n",
       "      <th>5</th>\n",
       "      <td>England</td>\n",
       "      <td>182.0</td>\n",
       "      <td>71.0</td>\n",
       "      <td>Center Back</td>\n",
       "      <td>0</td>\n",
       "      <td>0</td>\n",
       "      <td>1</td>\n",
       "      <td>0</td>\n",
       "      <td>0.325185</td>\n",
       "      <td>0.538462</td>\n",
       "      <td>0.125</td>\n",
       "      <td>Defense</td>\n",
       "      <td>0.0</td>\n",
       "    </tr>\n",
       "    <tr>\n",
       "      <th>6</th>\n",
       "      <td>England</td>\n",
       "      <td>187.0</td>\n",
       "      <td>80.0</td>\n",
       "      <td>Left Fullback</td>\n",
       "      <td>1</td>\n",
       "      <td>0</td>\n",
       "      <td>0</td>\n",
       "      <td>0</td>\n",
       "      <td>0.325185</td>\n",
       "      <td>0.538462</td>\n",
       "      <td>0.125</td>\n",
       "      <td>Defense</td>\n",
       "      <td>0.0</td>\n",
       "    </tr>\n",
       "    <tr>\n",
       "      <th>7</th>\n",
       "      <td>England</td>\n",
       "      <td>180.0</td>\n",
       "      <td>68.0</td>\n",
       "      <td>Defensive Midfielder</td>\n",
       "      <td>0</td>\n",
       "      <td>0</td>\n",
       "      <td>1</td>\n",
       "      <td>0</td>\n",
       "      <td>0.325185</td>\n",
       "      <td>0.538462</td>\n",
       "      <td>1.000</td>\n",
       "      <td>Defense</td>\n",
       "      <td>0.0</td>\n",
       "    </tr>\n",
       "  </tbody>\n",
       "</table>\n",
       "</div>"
      ],
      "text/plain": [
       "  leagueCountry  height  weight              position  victories  ties  \\\n",
       "0         Spain   177.0    72.0  Attacking Midfielder          0     0   \n",
       "1        France   179.0    82.0          Right Winger          0     0   \n",
       "5       England   182.0    71.0           Center Back          0     0   \n",
       "6       England   187.0    80.0         Left Fullback          1     0   \n",
       "7       England   180.0    68.0  Defensive Midfielder          0     0   \n",
       "\n",
       "   defeats  goals   meanIAT   meanExp   skin position_agg  total_reds  \n",
       "0        1      0  0.326391  0.396000  0.375      Forward         0.0  \n",
       "1        1      0  0.203375 -0.204082  0.750      Forward         0.0  \n",
       "5        1      0  0.325185  0.538462  0.125      Defense         0.0  \n",
       "6        0      0  0.325185  0.538462  0.125      Defense         0.0  \n",
       "7        1      0  0.325185  0.538462  1.000      Defense         0.0  "
      ]
     },
     "execution_count": 56,
     "metadata": {},
     "output_type": "execute_result"
    }
   ],
   "source": [
    "df_rdm_frst.head()"
   ]
  },
  {
   "cell_type": "markdown",
   "metadata": {},
   "source": [
    "Now we input prepare the inputs and labels for the model.  The number of total red cards per game will be used as our label (i.e. feature we want to predict), the rest of the features will be used as inputs."
   ]
  },
  {
   "cell_type": "code",
   "execution_count": 49,
   "metadata": {},
   "outputs": [],
   "source": [
    "X = df_rdm_frst.drop('total_reds',axis=1)\n",
    "y = df_rdm_frst.total_reds"
   ]
  },
  {
   "cell_type": "markdown",
   "metadata": {},
   "source": [
    "Since sklearn can't handle categoricals natively, we turn them into dummy variables, as an example for how this works:"
   ]
  },
  {
   "cell_type": "code",
   "execution_count": 57,
   "metadata": {},
   "outputs": [
    {
     "name": "stdout",
     "output_type": "stream",
     "text": [
      "0    a\n",
      "1    b\n",
      "2    c\n",
      "3    a\n",
      "dtype: object\n",
      "   a  b  c\n",
      "0  1  0  0\n",
      "1  0  1  0\n",
      "2  0  0  1\n",
      "3  1  0  0\n"
     ]
    }
   ],
   "source": [
    "s = pd.Series(list('abca'))\n",
    "print(s)\n",
    "print(pd.get_dummies(s))"
   ]
  },
  {
   "cell_type": "code",
   "execution_count": 50,
   "metadata": {},
   "outputs": [],
   "source": [
    "X_encoded = pd.get_dummies(X)"
   ]
  },
  {
   "cell_type": "markdown",
   "metadata": {},
   "source": [
    "## Grid search\n",
    "A random forest aglorith has several hyperaparemeters that can be tweaked to improve its performance, for instance the number of estimators and the maximum number of features to be used in each. We set up a grid search to find the optimum case for out scenario"
   ]
  },
  {
   "cell_type": "code",
   "execution_count": 51,
   "metadata": {},
   "outputs": [],
   "source": [
    "param_grid = {'n_estimators': (5,10,50,100),\n",
    "              'max_features': (5,8, 12, 16)\n",
    "             }\n",
    "clf = RandomForestRegressor()\n",
    "grid = RandomizedSearchCV(clf, param_grid, cv=4, scoring='r2')"
   ]
  },
  {
   "cell_type": "code",
   "execution_count": 52,
   "metadata": {},
   "outputs": [
    {
     "data": {
      "text/plain": [
       "RandomizedSearchCV(cv=4, error_score='raise',\n",
       "          estimator=RandomForestRegressor(bootstrap=True, criterion='mse', max_depth=None,\n",
       "           max_features='auto', max_leaf_nodes=None,\n",
       "           min_impurity_decrease=0.0, min_impurity_split=None,\n",
       "           min_samples_leaf=1, min_samples_split=2,\n",
       "           min_weight_fraction_leaf=0.0, n_estimators=10, n_jobs=1,\n",
       "           oob_score=False, random_state=None, verbose=0, warm_start=False),\n",
       "          fit_params=None, iid=True, n_iter=10, n_jobs=1,\n",
       "          param_distributions={'n_estimators': (5, 10, 50, 100), 'max_features': (5, 8, 12, 16)},\n",
       "          pre_dispatch='2*n_jobs', random_state=None, refit=True,\n",
       "          return_train_score='warn', scoring='r2', verbose=0)"
      ]
     },
     "execution_count": 52,
     "metadata": {},
     "output_type": "execute_result"
    }
   ],
   "source": [
    "grid.fit(X_encoded,y)"
   ]
  },
  {
   "cell_type": "code",
   "execution_count": 58,
   "metadata": {},
   "outputs": [
    {
     "ename": "SyntaxError",
     "evalue": "invalid syntax (<ipython-input-58-4bbda8071456>, line 1)",
     "output_type": "error",
     "traceback": [
      "\u001b[0;36m  File \u001b[0;32m\"<ipython-input-58-4bbda8071456>\"\u001b[0;36m, line \u001b[0;32m1\u001b[0m\n\u001b[0;31m    The best performing scenario:\u001b[0m\n\u001b[0m           ^\u001b[0m\n\u001b[0;31mSyntaxError\u001b[0m\u001b[0;31m:\u001b[0m invalid syntax\n"
     ]
    }
   ],
   "source": [
    "The best performing scenario:"
   ]
  },
  {
   "cell_type": "code",
   "execution_count": 53,
   "metadata": {},
   "outputs": [
    {
     "data": {
      "text/plain": [
       "{'n_estimators': 50, 'max_features': 5}"
      ]
     },
     "execution_count": 53,
     "metadata": {},
     "output_type": "execute_result"
    }
   ],
   "source": [
    "grid.best_score_\n",
    "grid.best_params_"
   ]
  },
  {
   "cell_type": "markdown",
   "metadata": {},
   "source": [
    "## Performance\n",
    "We can now check the algorithms performance at predicting the player's red cards given these features according to some norm or score. In this case we use the r2 score where a perfect case is a score of 1 and the worst case is 0."
   ]
  },
  {
   "cell_type": "code",
   "execution_count": 60,
   "metadata": {},
   "outputs": [
    {
     "name": "stdout",
     "output_type": "stream",
     "text": [
      "Score including the skin tone as a feature:  0.5429254273650931\n"
     ]
    }
   ],
   "source": [
    "y_hat = grid.predict(X_encoded)\n",
    "r2_original = metrics.r2_score(y,y_hat)\n",
    "print('Score including the skin tone as a feature: ', r2_original)"
   ]
  },
  {
   "cell_type": "markdown",
   "metadata": {},
   "source": [
    "## Now ignore skin tone\n",
    "We follow the same procedure but now remove the skin tone as a factor and again score the performance at trying to predict how likely a player is to receive red cards"
   ]
  },
  {
   "cell_type": "code",
   "execution_count": 61,
   "metadata": {},
   "outputs": [
    {
     "data": {
      "text/plain": [
       "0.3189711062759222"
      ]
     },
     "execution_count": 61,
     "metadata": {},
     "output_type": "execute_result"
    }
   ],
   "source": [
    "tmpx = X_encoded.skin.values\n",
    "np.random.shuffle(tmpx)\n",
    "X_perm = X_encoded.copy()\n",
    "X_perm.skin = tmpx\n",
    "\n",
    "y_hat_perm = grid.predict(X_perm)\n",
    "r2_perm = metrics.r2_score(y,y_hat_perm)\n",
    "r2_perm"
   ]
  },
  {
   "cell_type": "markdown",
   "metadata": {},
   "source": [
    "## What next?\n",
    "The score drops substantially! This is a strong indication that skin tone is playin a role in determining the likelyhood of a player receiving red cards.  There are many other factor we could hope to explore:\n",
    "- Does the referee country/nationality have an effect?\n",
    "- How about including the player position (which we engineered)?\n",
    "- Is there a specific bias towards certain sports clubs? \n",
    "- etc.\n"
   ]
  },
  {
   "cell_type": "code",
   "execution_count": null,
   "metadata": {},
   "outputs": [],
   "source": []
  }
 ],
 "metadata": {
  "kernelspec": {
   "display_name": "Python 3",
   "language": "python",
   "name": "python3"
  },
  "language_info": {
   "codemirror_mode": {
    "name": "ipython",
    "version": 3
   },
   "file_extension": ".py",
   "mimetype": "text/x-python",
   "name": "python",
   "nbconvert_exporter": "python",
   "pygments_lexer": "ipython3",
   "version": "3.6.5"
  }
 },
 "nbformat": 4,
 "nbformat_minor": 2
}
